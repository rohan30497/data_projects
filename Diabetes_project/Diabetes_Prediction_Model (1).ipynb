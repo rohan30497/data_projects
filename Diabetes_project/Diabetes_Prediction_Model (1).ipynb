{
  "cells": [
    {
      "cell_type": "code",
      "execution_count": null,
      "metadata": {
        "id": "tkxYs3oVZP8e"
      },
      "outputs": [],
      "source": [
        "import pandas as pd\n",
        "import numpy as np\n",
        "import matplotlib.pyplot as plt\n",
        "import seaborn as sns\n",
        "from sklearn.preprocessing import StandardScaler\n",
        "from sklearn.model_selection import train_test_split\n",
        "from sklearn.metrics import accuracy_score, precision_score, recall_score,f1_score\n",
        "from sklearn.linear_model import LogisticRegression"
      ]
    },
    {
      "cell_type": "code",
      "execution_count": null,
      "metadata": {
        "colab": {
          "base_uri": "https://localhost:8080/",
          "height": 206
        },
        "id": "mmhKlIr1ZZyM",
        "outputId": "f4a675c1-6bbf-410d-9066-95dd1ef55c23"
      },
      "outputs": [
        {
          "data": {
            "text/html": [
              "\n",
              "  <div id=\"df-3cc8d238-9580-4986-be27-ed71252484a9\">\n",
              "    <div class=\"colab-df-container\">\n",
              "      <div>\n",
              "<style scoped>\n",
              "    .dataframe tbody tr th:only-of-type {\n",
              "        vertical-align: middle;\n",
              "    }\n",
              "\n",
              "    .dataframe tbody tr th {\n",
              "        vertical-align: top;\n",
              "    }\n",
              "\n",
              "    .dataframe thead th {\n",
              "        text-align: right;\n",
              "    }\n",
              "</style>\n",
              "<table border=\"1\" class=\"dataframe\">\n",
              "  <thead>\n",
              "    <tr style=\"text-align: right;\">\n",
              "      <th></th>\n",
              "      <th>Pregnancies</th>\n",
              "      <th>Glucose</th>\n",
              "      <th>BloodPressure</th>\n",
              "      <th>SkinThickness</th>\n",
              "      <th>Insulin</th>\n",
              "      <th>BMI</th>\n",
              "      <th>DiabetesPedigreeFunction</th>\n",
              "      <th>Age</th>\n",
              "      <th>Outcome</th>\n",
              "    </tr>\n",
              "  </thead>\n",
              "  <tbody>\n",
              "    <tr>\n",
              "      <th>0</th>\n",
              "      <td>6</td>\n",
              "      <td>148</td>\n",
              "      <td>72</td>\n",
              "      <td>35</td>\n",
              "      <td>0</td>\n",
              "      <td>33.6</td>\n",
              "      <td>0.627</td>\n",
              "      <td>50</td>\n",
              "      <td>1</td>\n",
              "    </tr>\n",
              "    <tr>\n",
              "      <th>1</th>\n",
              "      <td>1</td>\n",
              "      <td>85</td>\n",
              "      <td>66</td>\n",
              "      <td>29</td>\n",
              "      <td>0</td>\n",
              "      <td>26.6</td>\n",
              "      <td>0.351</td>\n",
              "      <td>31</td>\n",
              "      <td>0</td>\n",
              "    </tr>\n",
              "    <tr>\n",
              "      <th>2</th>\n",
              "      <td>8</td>\n",
              "      <td>183</td>\n",
              "      <td>64</td>\n",
              "      <td>0</td>\n",
              "      <td>0</td>\n",
              "      <td>23.3</td>\n",
              "      <td>0.672</td>\n",
              "      <td>32</td>\n",
              "      <td>1</td>\n",
              "    </tr>\n",
              "    <tr>\n",
              "      <th>3</th>\n",
              "      <td>1</td>\n",
              "      <td>89</td>\n",
              "      <td>66</td>\n",
              "      <td>23</td>\n",
              "      <td>94</td>\n",
              "      <td>28.1</td>\n",
              "      <td>0.167</td>\n",
              "      <td>21</td>\n",
              "      <td>0</td>\n",
              "    </tr>\n",
              "    <tr>\n",
              "      <th>4</th>\n",
              "      <td>0</td>\n",
              "      <td>137</td>\n",
              "      <td>40</td>\n",
              "      <td>35</td>\n",
              "      <td>168</td>\n",
              "      <td>43.1</td>\n",
              "      <td>2.288</td>\n",
              "      <td>33</td>\n",
              "      <td>1</td>\n",
              "    </tr>\n",
              "  </tbody>\n",
              "</table>\n",
              "</div>\n",
              "      <button class=\"colab-df-convert\" onclick=\"convertToInteractive('df-3cc8d238-9580-4986-be27-ed71252484a9')\"\n",
              "              title=\"Convert this dataframe to an interactive table.\"\n",
              "              style=\"display:none;\">\n",
              "        \n",
              "  <svg xmlns=\"http://www.w3.org/2000/svg\" height=\"24px\"viewBox=\"0 0 24 24\"\n",
              "       width=\"24px\">\n",
              "    <path d=\"M0 0h24v24H0V0z\" fill=\"none\"/>\n",
              "    <path d=\"M18.56 5.44l.94 2.06.94-2.06 2.06-.94-2.06-.94-.94-2.06-.94 2.06-2.06.94zm-11 1L8.5 8.5l.94-2.06 2.06-.94-2.06-.94L8.5 2.5l-.94 2.06-2.06.94zm10 10l.94 2.06.94-2.06 2.06-.94-2.06-.94-.94-2.06-.94 2.06-2.06.94z\"/><path d=\"M17.41 7.96l-1.37-1.37c-.4-.4-.92-.59-1.43-.59-.52 0-1.04.2-1.43.59L10.3 9.45l-7.72 7.72c-.78.78-.78 2.05 0 2.83L4 21.41c.39.39.9.59 1.41.59.51 0 1.02-.2 1.41-.59l7.78-7.78 2.81-2.81c.8-.78.8-2.07 0-2.86zM5.41 20L4 18.59l7.72-7.72 1.47 1.35L5.41 20z\"/>\n",
              "  </svg>\n",
              "      </button>\n",
              "      \n",
              "  <style>\n",
              "    .colab-df-container {\n",
              "      display:flex;\n",
              "      flex-wrap:wrap;\n",
              "      gap: 12px;\n",
              "    }\n",
              "\n",
              "    .colab-df-convert {\n",
              "      background-color: #E8F0FE;\n",
              "      border: none;\n",
              "      border-radius: 50%;\n",
              "      cursor: pointer;\n",
              "      display: none;\n",
              "      fill: #1967D2;\n",
              "      height: 32px;\n",
              "      padding: 0 0 0 0;\n",
              "      width: 32px;\n",
              "    }\n",
              "\n",
              "    .colab-df-convert:hover {\n",
              "      background-color: #E2EBFA;\n",
              "      box-shadow: 0px 1px 2px rgba(60, 64, 67, 0.3), 0px 1px 3px 1px rgba(60, 64, 67, 0.15);\n",
              "      fill: #174EA6;\n",
              "    }\n",
              "\n",
              "    [theme=dark] .colab-df-convert {\n",
              "      background-color: #3B4455;\n",
              "      fill: #D2E3FC;\n",
              "    }\n",
              "\n",
              "    [theme=dark] .colab-df-convert:hover {\n",
              "      background-color: #434B5C;\n",
              "      box-shadow: 0px 1px 3px 1px rgba(0, 0, 0, 0.15);\n",
              "      filter: drop-shadow(0px 1px 2px rgba(0, 0, 0, 0.3));\n",
              "      fill: #FFFFFF;\n",
              "    }\n",
              "  </style>\n",
              "\n",
              "      <script>\n",
              "        const buttonEl =\n",
              "          document.querySelector('#df-3cc8d238-9580-4986-be27-ed71252484a9 button.colab-df-convert');\n",
              "        buttonEl.style.display =\n",
              "          google.colab.kernel.accessAllowed ? 'block' : 'none';\n",
              "\n",
              "        async function convertToInteractive(key) {\n",
              "          const element = document.querySelector('#df-3cc8d238-9580-4986-be27-ed71252484a9');\n",
              "          const dataTable =\n",
              "            await google.colab.kernel.invokeFunction('convertToInteractive',\n",
              "                                                     [key], {});\n",
              "          if (!dataTable) return;\n",
              "\n",
              "          const docLinkHtml = 'Like what you see? Visit the ' +\n",
              "            '<a target=\"_blank\" href=https://colab.research.google.com/notebooks/data_table.ipynb>data table notebook</a>'\n",
              "            + ' to learn more about interactive tables.';\n",
              "          element.innerHTML = '';\n",
              "          dataTable['output_type'] = 'display_data';\n",
              "          await google.colab.output.renderOutput(dataTable, element);\n",
              "          const docLink = document.createElement('div');\n",
              "          docLink.innerHTML = docLinkHtml;\n",
              "          element.appendChild(docLink);\n",
              "        }\n",
              "      </script>\n",
              "    </div>\n",
              "  </div>\n",
              "  "
            ],
            "text/plain": [
              "   Pregnancies  Glucose  BloodPressure  SkinThickness  Insulin   BMI  \\\n",
              "0            6      148             72             35        0  33.6   \n",
              "1            1       85             66             29        0  26.6   \n",
              "2            8      183             64              0        0  23.3   \n",
              "3            1       89             66             23       94  28.1   \n",
              "4            0      137             40             35      168  43.1   \n",
              "\n",
              "   DiabetesPedigreeFunction  Age  Outcome  \n",
              "0                     0.627   50        1  \n",
              "1                     0.351   31        0  \n",
              "2                     0.672   32        1  \n",
              "3                     0.167   21        0  \n",
              "4                     2.288   33        1  "
            ]
          },
          "execution_count": 13,
          "metadata": {},
          "output_type": "execute_result"
        }
      ],
      "source": [
        "diabetes_df=pd.read_csv('/content/drive/MyDrive/ML Assign/diabetes.csv')\n",
        "diabetes_df.head()"
      ]
    },
    {
      "cell_type": "code",
      "execution_count": null,
      "metadata": {
        "colab": {
          "base_uri": "https://localhost:8080/"
        },
        "id": "CR90CmT1cVtp",
        "outputId": "e2d90d77-552c-4415-bdb3-a04772f4b354"
      },
      "outputs": [
        {
          "name": "stdout",
          "output_type": "stream",
          "text": [
            "<class 'pandas.core.frame.DataFrame'>\n",
            "RangeIndex: 768 entries, 0 to 767\n",
            "Data columns (total 9 columns):\n",
            " #   Column                    Non-Null Count  Dtype  \n",
            "---  ------                    --------------  -----  \n",
            " 0   Pregnancies               768 non-null    int64  \n",
            " 1   Glucose                   768 non-null    int64  \n",
            " 2   BloodPressure             768 non-null    int64  \n",
            " 3   SkinThickness             768 non-null    int64  \n",
            " 4   Insulin                   768 non-null    int64  \n",
            " 5   BMI                       768 non-null    float64\n",
            " 6   DiabetesPedigreeFunction  768 non-null    float64\n",
            " 7   Age                       768 non-null    int64  \n",
            " 8   Outcome                   768 non-null    int64  \n",
            "dtypes: float64(2), int64(7)\n",
            "memory usage: 54.1 KB\n"
          ]
        }
      ],
      "source": [
        "diabetes_df.info()"
      ]
    },
    {
      "cell_type": "code",
      "execution_count": null,
      "metadata": {
        "colab": {
          "base_uri": "https://localhost:8080/"
        },
        "id": "apuQ0DuDf1Hz",
        "outputId": "429dffc9-e539-4050-e0aa-cedb1591fe7c"
      },
      "outputs": [
        {
          "data": {
            "text/plain": [
              "Pregnancies                 0\n",
              "Glucose                     0\n",
              "BloodPressure               0\n",
              "SkinThickness               0\n",
              "Insulin                     0\n",
              "BMI                         0\n",
              "DiabetesPedigreeFunction    0\n",
              "Age                         0\n",
              "Outcome                     0\n",
              "dtype: int64"
            ]
          },
          "execution_count": 15,
          "metadata": {},
          "output_type": "execute_result"
        }
      ],
      "source": [
        "diabetes_df.isna().sum()"
      ]
    },
    {
      "cell_type": "code",
      "execution_count": null,
      "metadata": {
        "colab": {
          "base_uri": "https://localhost:8080/",
          "height": 300
        },
        "id": "h9w5hbCkgbva",
        "outputId": "b92d1452-d349-4f82-fbe2-a82e35cc6fe8"
      },
      "outputs": [
        {
          "data": {
            "text/html": [
              "\n",
              "  <div id=\"df-433267f9-c754-418c-9cad-bb023a5ca2c4\">\n",
              "    <div class=\"colab-df-container\">\n",
              "      <div>\n",
              "<style scoped>\n",
              "    .dataframe tbody tr th:only-of-type {\n",
              "        vertical-align: middle;\n",
              "    }\n",
              "\n",
              "    .dataframe tbody tr th {\n",
              "        vertical-align: top;\n",
              "    }\n",
              "\n",
              "    .dataframe thead th {\n",
              "        text-align: right;\n",
              "    }\n",
              "</style>\n",
              "<table border=\"1\" class=\"dataframe\">\n",
              "  <thead>\n",
              "    <tr style=\"text-align: right;\">\n",
              "      <th></th>\n",
              "      <th>Pregnancies</th>\n",
              "      <th>Glucose</th>\n",
              "      <th>BloodPressure</th>\n",
              "      <th>SkinThickness</th>\n",
              "      <th>Insulin</th>\n",
              "      <th>BMI</th>\n",
              "      <th>DiabetesPedigreeFunction</th>\n",
              "      <th>Age</th>\n",
              "      <th>Outcome</th>\n",
              "    </tr>\n",
              "  </thead>\n",
              "  <tbody>\n",
              "    <tr>\n",
              "      <th>count</th>\n",
              "      <td>768.000000</td>\n",
              "      <td>768.000000</td>\n",
              "      <td>768.000000</td>\n",
              "      <td>768.000000</td>\n",
              "      <td>768.000000</td>\n",
              "      <td>768.000000</td>\n",
              "      <td>768.000000</td>\n",
              "      <td>768.000000</td>\n",
              "      <td>768.000000</td>\n",
              "    </tr>\n",
              "    <tr>\n",
              "      <th>mean</th>\n",
              "      <td>3.845052</td>\n",
              "      <td>120.894531</td>\n",
              "      <td>69.105469</td>\n",
              "      <td>20.536458</td>\n",
              "      <td>79.799479</td>\n",
              "      <td>31.992578</td>\n",
              "      <td>0.471876</td>\n",
              "      <td>33.240885</td>\n",
              "      <td>0.348958</td>\n",
              "    </tr>\n",
              "    <tr>\n",
              "      <th>std</th>\n",
              "      <td>3.369578</td>\n",
              "      <td>31.972618</td>\n",
              "      <td>19.355807</td>\n",
              "      <td>15.952218</td>\n",
              "      <td>115.244002</td>\n",
              "      <td>7.884160</td>\n",
              "      <td>0.331329</td>\n",
              "      <td>11.760232</td>\n",
              "      <td>0.476951</td>\n",
              "    </tr>\n",
              "    <tr>\n",
              "      <th>min</th>\n",
              "      <td>0.000000</td>\n",
              "      <td>0.000000</td>\n",
              "      <td>0.000000</td>\n",
              "      <td>0.000000</td>\n",
              "      <td>0.000000</td>\n",
              "      <td>0.000000</td>\n",
              "      <td>0.078000</td>\n",
              "      <td>21.000000</td>\n",
              "      <td>0.000000</td>\n",
              "    </tr>\n",
              "    <tr>\n",
              "      <th>25%</th>\n",
              "      <td>1.000000</td>\n",
              "      <td>99.000000</td>\n",
              "      <td>62.000000</td>\n",
              "      <td>0.000000</td>\n",
              "      <td>0.000000</td>\n",
              "      <td>27.300000</td>\n",
              "      <td>0.243750</td>\n",
              "      <td>24.000000</td>\n",
              "      <td>0.000000</td>\n",
              "    </tr>\n",
              "    <tr>\n",
              "      <th>50%</th>\n",
              "      <td>3.000000</td>\n",
              "      <td>117.000000</td>\n",
              "      <td>72.000000</td>\n",
              "      <td>23.000000</td>\n",
              "      <td>30.500000</td>\n",
              "      <td>32.000000</td>\n",
              "      <td>0.372500</td>\n",
              "      <td>29.000000</td>\n",
              "      <td>0.000000</td>\n",
              "    </tr>\n",
              "    <tr>\n",
              "      <th>75%</th>\n",
              "      <td>6.000000</td>\n",
              "      <td>140.250000</td>\n",
              "      <td>80.000000</td>\n",
              "      <td>32.000000</td>\n",
              "      <td>127.250000</td>\n",
              "      <td>36.600000</td>\n",
              "      <td>0.626250</td>\n",
              "      <td>41.000000</td>\n",
              "      <td>1.000000</td>\n",
              "    </tr>\n",
              "    <tr>\n",
              "      <th>max</th>\n",
              "      <td>17.000000</td>\n",
              "      <td>199.000000</td>\n",
              "      <td>122.000000</td>\n",
              "      <td>99.000000</td>\n",
              "      <td>846.000000</td>\n",
              "      <td>67.100000</td>\n",
              "      <td>2.420000</td>\n",
              "      <td>81.000000</td>\n",
              "      <td>1.000000</td>\n",
              "    </tr>\n",
              "  </tbody>\n",
              "</table>\n",
              "</div>\n",
              "      <button class=\"colab-df-convert\" onclick=\"convertToInteractive('df-433267f9-c754-418c-9cad-bb023a5ca2c4')\"\n",
              "              title=\"Convert this dataframe to an interactive table.\"\n",
              "              style=\"display:none;\">\n",
              "        \n",
              "  <svg xmlns=\"http://www.w3.org/2000/svg\" height=\"24px\"viewBox=\"0 0 24 24\"\n",
              "       width=\"24px\">\n",
              "    <path d=\"M0 0h24v24H0V0z\" fill=\"none\"/>\n",
              "    <path d=\"M18.56 5.44l.94 2.06.94-2.06 2.06-.94-2.06-.94-.94-2.06-.94 2.06-2.06.94zm-11 1L8.5 8.5l.94-2.06 2.06-.94-2.06-.94L8.5 2.5l-.94 2.06-2.06.94zm10 10l.94 2.06.94-2.06 2.06-.94-2.06-.94-.94-2.06-.94 2.06-2.06.94z\"/><path d=\"M17.41 7.96l-1.37-1.37c-.4-.4-.92-.59-1.43-.59-.52 0-1.04.2-1.43.59L10.3 9.45l-7.72 7.72c-.78.78-.78 2.05 0 2.83L4 21.41c.39.39.9.59 1.41.59.51 0 1.02-.2 1.41-.59l7.78-7.78 2.81-2.81c.8-.78.8-2.07 0-2.86zM5.41 20L4 18.59l7.72-7.72 1.47 1.35L5.41 20z\"/>\n",
              "  </svg>\n",
              "      </button>\n",
              "      \n",
              "  <style>\n",
              "    .colab-df-container {\n",
              "      display:flex;\n",
              "      flex-wrap:wrap;\n",
              "      gap: 12px;\n",
              "    }\n",
              "\n",
              "    .colab-df-convert {\n",
              "      background-color: #E8F0FE;\n",
              "      border: none;\n",
              "      border-radius: 50%;\n",
              "      cursor: pointer;\n",
              "      display: none;\n",
              "      fill: #1967D2;\n",
              "      height: 32px;\n",
              "      padding: 0 0 0 0;\n",
              "      width: 32px;\n",
              "    }\n",
              "\n",
              "    .colab-df-convert:hover {\n",
              "      background-color: #E2EBFA;\n",
              "      box-shadow: 0px 1px 2px rgba(60, 64, 67, 0.3), 0px 1px 3px 1px rgba(60, 64, 67, 0.15);\n",
              "      fill: #174EA6;\n",
              "    }\n",
              "\n",
              "    [theme=dark] .colab-df-convert {\n",
              "      background-color: #3B4455;\n",
              "      fill: #D2E3FC;\n",
              "    }\n",
              "\n",
              "    [theme=dark] .colab-df-convert:hover {\n",
              "      background-color: #434B5C;\n",
              "      box-shadow: 0px 1px 3px 1px rgba(0, 0, 0, 0.15);\n",
              "      filter: drop-shadow(0px 1px 2px rgba(0, 0, 0, 0.3));\n",
              "      fill: #FFFFFF;\n",
              "    }\n",
              "  </style>\n",
              "\n",
              "      <script>\n",
              "        const buttonEl =\n",
              "          document.querySelector('#df-433267f9-c754-418c-9cad-bb023a5ca2c4 button.colab-df-convert');\n",
              "        buttonEl.style.display =\n",
              "          google.colab.kernel.accessAllowed ? 'block' : 'none';\n",
              "\n",
              "        async function convertToInteractive(key) {\n",
              "          const element = document.querySelector('#df-433267f9-c754-418c-9cad-bb023a5ca2c4');\n",
              "          const dataTable =\n",
              "            await google.colab.kernel.invokeFunction('convertToInteractive',\n",
              "                                                     [key], {});\n",
              "          if (!dataTable) return;\n",
              "\n",
              "          const docLinkHtml = 'Like what you see? Visit the ' +\n",
              "            '<a target=\"_blank\" href=https://colab.research.google.com/notebooks/data_table.ipynb>data table notebook</a>'\n",
              "            + ' to learn more about interactive tables.';\n",
              "          element.innerHTML = '';\n",
              "          dataTable['output_type'] = 'display_data';\n",
              "          await google.colab.output.renderOutput(dataTable, element);\n",
              "          const docLink = document.createElement('div');\n",
              "          docLink.innerHTML = docLinkHtml;\n",
              "          element.appendChild(docLink);\n",
              "        }\n",
              "      </script>\n",
              "    </div>\n",
              "  </div>\n",
              "  "
            ],
            "text/plain": [
              "       Pregnancies     Glucose  BloodPressure  SkinThickness     Insulin  \\\n",
              "count   768.000000  768.000000     768.000000     768.000000  768.000000   \n",
              "mean      3.845052  120.894531      69.105469      20.536458   79.799479   \n",
              "std       3.369578   31.972618      19.355807      15.952218  115.244002   \n",
              "min       0.000000    0.000000       0.000000       0.000000    0.000000   \n",
              "25%       1.000000   99.000000      62.000000       0.000000    0.000000   \n",
              "50%       3.000000  117.000000      72.000000      23.000000   30.500000   \n",
              "75%       6.000000  140.250000      80.000000      32.000000  127.250000   \n",
              "max      17.000000  199.000000     122.000000      99.000000  846.000000   \n",
              "\n",
              "              BMI  DiabetesPedigreeFunction         Age     Outcome  \n",
              "count  768.000000                768.000000  768.000000  768.000000  \n",
              "mean    31.992578                  0.471876   33.240885    0.348958  \n",
              "std      7.884160                  0.331329   11.760232    0.476951  \n",
              "min      0.000000                  0.078000   21.000000    0.000000  \n",
              "25%     27.300000                  0.243750   24.000000    0.000000  \n",
              "50%     32.000000                  0.372500   29.000000    0.000000  \n",
              "75%     36.600000                  0.626250   41.000000    1.000000  \n",
              "max     67.100000                  2.420000   81.000000    1.000000  "
            ]
          },
          "execution_count": 16,
          "metadata": {},
          "output_type": "execute_result"
        }
      ],
      "source": [
        "diabetes_df.describe()"
      ]
    },
    {
      "cell_type": "code",
      "execution_count": null,
      "metadata": {
        "colab": {
          "base_uri": "https://localhost:8080/",
          "height": 331
        },
        "id": "Y8nYPqXGgq2s",
        "outputId": "d3bdd457-66d7-4644-82f7-9f5979e794da"
      },
      "outputs": [
        {
          "data": {
            "text/html": [
              "\n",
              "  <div id=\"df-7edc670b-7cca-4972-9c4b-2225c4838008\">\n",
              "    <div class=\"colab-df-container\">\n",
              "      <div>\n",
              "<style scoped>\n",
              "    .dataframe tbody tr th:only-of-type {\n",
              "        vertical-align: middle;\n",
              "    }\n",
              "\n",
              "    .dataframe tbody tr th {\n",
              "        vertical-align: top;\n",
              "    }\n",
              "\n",
              "    .dataframe thead th {\n",
              "        text-align: right;\n",
              "    }\n",
              "</style>\n",
              "<table border=\"1\" class=\"dataframe\">\n",
              "  <thead>\n",
              "    <tr style=\"text-align: right;\">\n",
              "      <th></th>\n",
              "      <th>Pregnancies</th>\n",
              "      <th>Glucose</th>\n",
              "      <th>BloodPressure</th>\n",
              "      <th>SkinThickness</th>\n",
              "      <th>Insulin</th>\n",
              "      <th>BMI</th>\n",
              "      <th>DiabetesPedigreeFunction</th>\n",
              "      <th>Age</th>\n",
              "      <th>Outcome</th>\n",
              "    </tr>\n",
              "  </thead>\n",
              "  <tbody>\n",
              "    <tr>\n",
              "      <th>Pregnancies</th>\n",
              "      <td>1.000000</td>\n",
              "      <td>0.129459</td>\n",
              "      <td>0.141282</td>\n",
              "      <td>-0.081672</td>\n",
              "      <td>-0.073535</td>\n",
              "      <td>0.017683</td>\n",
              "      <td>-0.033523</td>\n",
              "      <td>0.544341</td>\n",
              "      <td>0.221898</td>\n",
              "    </tr>\n",
              "    <tr>\n",
              "      <th>Glucose</th>\n",
              "      <td>0.129459</td>\n",
              "      <td>1.000000</td>\n",
              "      <td>0.152590</td>\n",
              "      <td>0.057328</td>\n",
              "      <td>0.331357</td>\n",
              "      <td>0.221071</td>\n",
              "      <td>0.137337</td>\n",
              "      <td>0.263514</td>\n",
              "      <td>0.466581</td>\n",
              "    </tr>\n",
              "    <tr>\n",
              "      <th>BloodPressure</th>\n",
              "      <td>0.141282</td>\n",
              "      <td>0.152590</td>\n",
              "      <td>1.000000</td>\n",
              "      <td>0.207371</td>\n",
              "      <td>0.088933</td>\n",
              "      <td>0.281805</td>\n",
              "      <td>0.041265</td>\n",
              "      <td>0.239528</td>\n",
              "      <td>0.065068</td>\n",
              "    </tr>\n",
              "    <tr>\n",
              "      <th>SkinThickness</th>\n",
              "      <td>-0.081672</td>\n",
              "      <td>0.057328</td>\n",
              "      <td>0.207371</td>\n",
              "      <td>1.000000</td>\n",
              "      <td>0.436783</td>\n",
              "      <td>0.392573</td>\n",
              "      <td>0.183928</td>\n",
              "      <td>-0.113970</td>\n",
              "      <td>0.074752</td>\n",
              "    </tr>\n",
              "    <tr>\n",
              "      <th>Insulin</th>\n",
              "      <td>-0.073535</td>\n",
              "      <td>0.331357</td>\n",
              "      <td>0.088933</td>\n",
              "      <td>0.436783</td>\n",
              "      <td>1.000000</td>\n",
              "      <td>0.197859</td>\n",
              "      <td>0.185071</td>\n",
              "      <td>-0.042163</td>\n",
              "      <td>0.130548</td>\n",
              "    </tr>\n",
              "    <tr>\n",
              "      <th>BMI</th>\n",
              "      <td>0.017683</td>\n",
              "      <td>0.221071</td>\n",
              "      <td>0.281805</td>\n",
              "      <td>0.392573</td>\n",
              "      <td>0.197859</td>\n",
              "      <td>1.000000</td>\n",
              "      <td>0.140647</td>\n",
              "      <td>0.036242</td>\n",
              "      <td>0.292695</td>\n",
              "    </tr>\n",
              "    <tr>\n",
              "      <th>DiabetesPedigreeFunction</th>\n",
              "      <td>-0.033523</td>\n",
              "      <td>0.137337</td>\n",
              "      <td>0.041265</td>\n",
              "      <td>0.183928</td>\n",
              "      <td>0.185071</td>\n",
              "      <td>0.140647</td>\n",
              "      <td>1.000000</td>\n",
              "      <td>0.033561</td>\n",
              "      <td>0.173844</td>\n",
              "    </tr>\n",
              "    <tr>\n",
              "      <th>Age</th>\n",
              "      <td>0.544341</td>\n",
              "      <td>0.263514</td>\n",
              "      <td>0.239528</td>\n",
              "      <td>-0.113970</td>\n",
              "      <td>-0.042163</td>\n",
              "      <td>0.036242</td>\n",
              "      <td>0.033561</td>\n",
              "      <td>1.000000</td>\n",
              "      <td>0.238356</td>\n",
              "    </tr>\n",
              "    <tr>\n",
              "      <th>Outcome</th>\n",
              "      <td>0.221898</td>\n",
              "      <td>0.466581</td>\n",
              "      <td>0.065068</td>\n",
              "      <td>0.074752</td>\n",
              "      <td>0.130548</td>\n",
              "      <td>0.292695</td>\n",
              "      <td>0.173844</td>\n",
              "      <td>0.238356</td>\n",
              "      <td>1.000000</td>\n",
              "    </tr>\n",
              "  </tbody>\n",
              "</table>\n",
              "</div>\n",
              "      <button class=\"colab-df-convert\" onclick=\"convertToInteractive('df-7edc670b-7cca-4972-9c4b-2225c4838008')\"\n",
              "              title=\"Convert this dataframe to an interactive table.\"\n",
              "              style=\"display:none;\">\n",
              "        \n",
              "  <svg xmlns=\"http://www.w3.org/2000/svg\" height=\"24px\"viewBox=\"0 0 24 24\"\n",
              "       width=\"24px\">\n",
              "    <path d=\"M0 0h24v24H0V0z\" fill=\"none\"/>\n",
              "    <path d=\"M18.56 5.44l.94 2.06.94-2.06 2.06-.94-2.06-.94-.94-2.06-.94 2.06-2.06.94zm-11 1L8.5 8.5l.94-2.06 2.06-.94-2.06-.94L8.5 2.5l-.94 2.06-2.06.94zm10 10l.94 2.06.94-2.06 2.06-.94-2.06-.94-.94-2.06-.94 2.06-2.06.94z\"/><path d=\"M17.41 7.96l-1.37-1.37c-.4-.4-.92-.59-1.43-.59-.52 0-1.04.2-1.43.59L10.3 9.45l-7.72 7.72c-.78.78-.78 2.05 0 2.83L4 21.41c.39.39.9.59 1.41.59.51 0 1.02-.2 1.41-.59l7.78-7.78 2.81-2.81c.8-.78.8-2.07 0-2.86zM5.41 20L4 18.59l7.72-7.72 1.47 1.35L5.41 20z\"/>\n",
              "  </svg>\n",
              "      </button>\n",
              "      \n",
              "  <style>\n",
              "    .colab-df-container {\n",
              "      display:flex;\n",
              "      flex-wrap:wrap;\n",
              "      gap: 12px;\n",
              "    }\n",
              "\n",
              "    .colab-df-convert {\n",
              "      background-color: #E8F0FE;\n",
              "      border: none;\n",
              "      border-radius: 50%;\n",
              "      cursor: pointer;\n",
              "      display: none;\n",
              "      fill: #1967D2;\n",
              "      height: 32px;\n",
              "      padding: 0 0 0 0;\n",
              "      width: 32px;\n",
              "    }\n",
              "\n",
              "    .colab-df-convert:hover {\n",
              "      background-color: #E2EBFA;\n",
              "      box-shadow: 0px 1px 2px rgba(60, 64, 67, 0.3), 0px 1px 3px 1px rgba(60, 64, 67, 0.15);\n",
              "      fill: #174EA6;\n",
              "    }\n",
              "\n",
              "    [theme=dark] .colab-df-convert {\n",
              "      background-color: #3B4455;\n",
              "      fill: #D2E3FC;\n",
              "    }\n",
              "\n",
              "    [theme=dark] .colab-df-convert:hover {\n",
              "      background-color: #434B5C;\n",
              "      box-shadow: 0px 1px 3px 1px rgba(0, 0, 0, 0.15);\n",
              "      filter: drop-shadow(0px 1px 2px rgba(0, 0, 0, 0.3));\n",
              "      fill: #FFFFFF;\n",
              "    }\n",
              "  </style>\n",
              "\n",
              "      <script>\n",
              "        const buttonEl =\n",
              "          document.querySelector('#df-7edc670b-7cca-4972-9c4b-2225c4838008 button.colab-df-convert');\n",
              "        buttonEl.style.display =\n",
              "          google.colab.kernel.accessAllowed ? 'block' : 'none';\n",
              "\n",
              "        async function convertToInteractive(key) {\n",
              "          const element = document.querySelector('#df-7edc670b-7cca-4972-9c4b-2225c4838008');\n",
              "          const dataTable =\n",
              "            await google.colab.kernel.invokeFunction('convertToInteractive',\n",
              "                                                     [key], {});\n",
              "          if (!dataTable) return;\n",
              "\n",
              "          const docLinkHtml = 'Like what you see? Visit the ' +\n",
              "            '<a target=\"_blank\" href=https://colab.research.google.com/notebooks/data_table.ipynb>data table notebook</a>'\n",
              "            + ' to learn more about interactive tables.';\n",
              "          element.innerHTML = '';\n",
              "          dataTable['output_type'] = 'display_data';\n",
              "          await google.colab.output.renderOutput(dataTable, element);\n",
              "          const docLink = document.createElement('div');\n",
              "          docLink.innerHTML = docLinkHtml;\n",
              "          element.appendChild(docLink);\n",
              "        }\n",
              "      </script>\n",
              "    </div>\n",
              "  </div>\n",
              "  "
            ],
            "text/plain": [
              "                          Pregnancies   Glucose  BloodPressure  SkinThickness  \\\n",
              "Pregnancies                  1.000000  0.129459       0.141282      -0.081672   \n",
              "Glucose                      0.129459  1.000000       0.152590       0.057328   \n",
              "BloodPressure                0.141282  0.152590       1.000000       0.207371   \n",
              "SkinThickness               -0.081672  0.057328       0.207371       1.000000   \n",
              "Insulin                     -0.073535  0.331357       0.088933       0.436783   \n",
              "BMI                          0.017683  0.221071       0.281805       0.392573   \n",
              "DiabetesPedigreeFunction    -0.033523  0.137337       0.041265       0.183928   \n",
              "Age                          0.544341  0.263514       0.239528      -0.113970   \n",
              "Outcome                      0.221898  0.466581       0.065068       0.074752   \n",
              "\n",
              "                           Insulin       BMI  DiabetesPedigreeFunction  \\\n",
              "Pregnancies              -0.073535  0.017683                 -0.033523   \n",
              "Glucose                   0.331357  0.221071                  0.137337   \n",
              "BloodPressure             0.088933  0.281805                  0.041265   \n",
              "SkinThickness             0.436783  0.392573                  0.183928   \n",
              "Insulin                   1.000000  0.197859                  0.185071   \n",
              "BMI                       0.197859  1.000000                  0.140647   \n",
              "DiabetesPedigreeFunction  0.185071  0.140647                  1.000000   \n",
              "Age                      -0.042163  0.036242                  0.033561   \n",
              "Outcome                   0.130548  0.292695                  0.173844   \n",
              "\n",
              "                               Age   Outcome  \n",
              "Pregnancies               0.544341  0.221898  \n",
              "Glucose                   0.263514  0.466581  \n",
              "BloodPressure             0.239528  0.065068  \n",
              "SkinThickness            -0.113970  0.074752  \n",
              "Insulin                  -0.042163  0.130548  \n",
              "BMI                       0.036242  0.292695  \n",
              "DiabetesPedigreeFunction  0.033561  0.173844  \n",
              "Age                       1.000000  0.238356  \n",
              "Outcome                   0.238356  1.000000  "
            ]
          },
          "execution_count": 17,
          "metadata": {},
          "output_type": "execute_result"
        }
      ],
      "source": [
        "# Calculate the correlation between all columns\n",
        "corr_matrix = diabetes_df.corr()\n",
        "corr_matrix"
      ]
    },
    {
      "cell_type": "code",
      "execution_count": null,
      "metadata": {
        "colab": {
          "base_uri": "https://localhost:8080/"
        },
        "id": "r1V3YsDBluS2",
        "outputId": "2710c622-2e04-4ee8-9171-79c0e0f59021"
      },
      "outputs": [
        {
          "data": {
            "text/plain": [
              "Outcome                     1.000000\n",
              "Glucose                     0.466581\n",
              "BMI                         0.292695\n",
              "Age                         0.238356\n",
              "Pregnancies                 0.221898\n",
              "DiabetesPedigreeFunction    0.173844\n",
              "Insulin                     0.130548\n",
              "SkinThickness               0.074752\n",
              "BloodPressure               0.065068\n",
              "Name: Outcome, dtype: float64"
            ]
          },
          "execution_count": 18,
          "metadata": {},
          "output_type": "execute_result"
        }
      ],
      "source": [
        "outcome_corr = corr_matrix[\"Outcome\"]\n",
        "outcome_corr=outcome_corr.sort_values(ascending=False)\n",
        "outcome_corr"
      ]
    },
    {
      "cell_type": "markdown",
      "metadata": {
        "id": "E7sM9rK4kbWQ"
      },
      "source": [
        "Here we can observe the factors leading to diabetes in the order of dec importance are Glucose>BMI>Age>Pregnancies> DiabetesPedigreeFunction Insulin.\n",
        "\n",
        "As observed, the leveln of insulin is not much important parameter in determini8ng wheter a person has diabetis or not"
      ]
    },
    {
      "cell_type": "code",
      "execution_count": null,
      "metadata": {
        "colab": {
          "base_uri": "https://localhost:8080/",
          "height": 712
        },
        "id": "RYZDlyfRkBot",
        "outputId": "0265af20-8f23-40cc-ef57-443765cb16e2"
      },
      "outputs": [
        {
          "data": {
            "text/plain": [
              "<Axes: >"
            ]
          },
          "execution_count": 19,
          "metadata": {},
          "output_type": "execute_result"
        },
        {
          "data": {
            "image/png": "[encoded data removed]",
            "text/plain": [
              "<Figure size 600x600 with 2 Axes>"
            ]
          },
          "metadata": {},
          "output_type": "display_data"
        }
      ],
      "source": [
        "# Create a heatmap of the correlation matrix\n",
        "fig, ax = plt.subplots(figsize=(6, 6))\n",
        "sns.heatmap(corr_matrix, annot=True, cmap=\"YlGnBu\", ax=ax)"
      ]
    },
    {
      "cell_type": "code",
      "execution_count": null,
      "metadata": {
        "colab": {
          "base_uri": "https://localhost:8080/",
          "height": 143
        },
        "id": "xmK-sciygGIQ",
        "outputId": "2de8cf9f-32d6-43ac-c83d-108e7e835402"
      },
      "outputs": [
        {
          "data": {
            "text/html": [
              "\n",
              "  <div id=\"df-283de1e0-1ddc-4767-9eb2-182d4545c6fa\">\n",
              "    <div class=\"colab-df-container\">\n",
              "      <div>\n",
              "<style scoped>\n",
              "    .dataframe tbody tr th:only-of-type {\n",
              "        vertical-align: middle;\n",
              "    }\n",
              "\n",
              "    .dataframe tbody tr th {\n",
              "        vertical-align: top;\n",
              "    }\n",
              "\n",
              "    .dataframe thead th {\n",
              "        text-align: right;\n",
              "    }\n",
              "</style>\n",
              "<table border=\"1\" class=\"dataframe\">\n",
              "  <thead>\n",
              "    <tr style=\"text-align: right;\">\n",
              "      <th></th>\n",
              "      <th>Pregnancies</th>\n",
              "      <th>Glucose</th>\n",
              "      <th>BloodPressure</th>\n",
              "      <th>SkinThickness</th>\n",
              "      <th>Insulin</th>\n",
              "      <th>BMI</th>\n",
              "      <th>DiabetesPedigreeFunction</th>\n",
              "      <th>Age</th>\n",
              "    </tr>\n",
              "    <tr>\n",
              "      <th>Outcome</th>\n",
              "      <th></th>\n",
              "      <th></th>\n",
              "      <th></th>\n",
              "      <th></th>\n",
              "      <th></th>\n",
              "      <th></th>\n",
              "      <th></th>\n",
              "      <th></th>\n",
              "    </tr>\n",
              "  </thead>\n",
              "  <tbody>\n",
              "    <tr>\n",
              "      <th>0</th>\n",
              "      <td>3.298000</td>\n",
              "      <td>109.980000</td>\n",
              "      <td>68.184000</td>\n",
              "      <td>19.664000</td>\n",
              "      <td>68.792000</td>\n",
              "      <td>30.304200</td>\n",
              "      <td>0.429734</td>\n",
              "      <td>31.190000</td>\n",
              "    </tr>\n",
              "    <tr>\n",
              "      <th>1</th>\n",
              "      <td>4.865672</td>\n",
              "      <td>141.257463</td>\n",
              "      <td>70.824627</td>\n",
              "      <td>22.164179</td>\n",
              "      <td>100.335821</td>\n",
              "      <td>35.142537</td>\n",
              "      <td>0.550500</td>\n",
              "      <td>37.067164</td>\n",
              "    </tr>\n",
              "  </tbody>\n",
              "</table>\n",
              "</div>\n",
              "      <button class=\"colab-df-convert\" onclick=\"convertToInteractive('df-283de1e0-1ddc-4767-9eb2-182d4545c6fa')\"\n",
              "              title=\"Convert this dataframe to an interactive table.\"\n",
              "              style=\"display:none;\">\n",
              "        \n",
              "  <svg xmlns=\"http://www.w3.org/2000/svg\" height=\"24px\"viewBox=\"0 0 24 24\"\n",
              "       width=\"24px\">\n",
              "    <path d=\"M0 0h24v24H0V0z\" fill=\"none\"/>\n",
              "    <path d=\"M18.56 5.44l.94 2.06.94-2.06 2.06-.94-2.06-.94-.94-2.06-.94 2.06-2.06.94zm-11 1L8.5 8.5l.94-2.06 2.06-.94-2.06-.94L8.5 2.5l-.94 2.06-2.06.94zm10 10l.94 2.06.94-2.06 2.06-.94-2.06-.94-.94-2.06-.94 2.06-2.06.94z\"/><path d=\"M17.41 7.96l-1.37-1.37c-.4-.4-.92-.59-1.43-.59-.52 0-1.04.2-1.43.59L10.3 9.45l-7.72 7.72c-.78.78-.78 2.05 0 2.83L4 21.41c.39.39.9.59 1.41.59.51 0 1.02-.2 1.41-.59l7.78-7.78 2.81-2.81c.8-.78.8-2.07 0-2.86zM5.41 20L4 18.59l7.72-7.72 1.47 1.35L5.41 20z\"/>\n",
              "  </svg>\n",
              "      </button>\n",
              "      \n",
              "  <style>\n",
              "    .colab-df-container {\n",
              "      display:flex;\n",
              "      flex-wrap:wrap;\n",
              "      gap: 12px;\n",
              "    }\n",
              "\n",
              "    .colab-df-convert {\n",
              "      background-color: #E8F0FE;\n",
              "      border: none;\n",
              "      border-radius: 50%;\n",
              "      cursor: pointer;\n",
              "      display: none;\n",
              "      fill: #1967D2;\n",
              "      height: 32px;\n",
              "      padding: 0 0 0 0;\n",
              "      width: 32px;\n",
              "    }\n",
              "\n",
              "    .colab-df-convert:hover {\n",
              "      background-color: #E2EBFA;\n",
              "      box-shadow: 0px 1px 2px rgba(60, 64, 67, 0.3), 0px 1px 3px 1px rgba(60, 64, 67, 0.15);\n",
              "      fill: #174EA6;\n",
              "    }\n",
              "\n",
              "    [theme=dark] .colab-df-convert {\n",
              "      background-color: #3B4455;\n",
              "      fill: #D2E3FC;\n",
              "    }\n",
              "\n",
              "    [theme=dark] .colab-df-convert:hover {\n",
              "      background-color: #434B5C;\n",
              "      box-shadow: 0px 1px 3px 1px rgba(0, 0, 0, 0.15);\n",
              "      filter: drop-shadow(0px 1px 2px rgba(0, 0, 0, 0.3));\n",
              "      fill: #FFFFFF;\n",
              "    }\n",
              "  </style>\n",
              "\n",
              "      <script>\n",
              "        const buttonEl =\n",
              "          document.querySelector('#df-283de1e0-1ddc-4767-9eb2-182d4545c6fa button.colab-df-convert');\n",
              "        buttonEl.style.display =\n",
              "          google.colab.kernel.accessAllowed ? 'block' : 'none';\n",
              "\n",
              "        async function convertToInteractive(key) {\n",
              "          const element = document.querySelector('#df-283de1e0-1ddc-4767-9eb2-182d4545c6fa');\n",
              "          const dataTable =\n",
              "            await google.colab.kernel.invokeFunction('convertToInteractive',\n",
              "                                                     [key], {});\n",
              "          if (!dataTable) return;\n",
              "\n",
              "          const docLinkHtml = 'Like what you see? Visit the ' +\n",
              "            '<a target=\"_blank\" href=https://colab.research.google.com/notebooks/data_table.ipynb>data table notebook</a>'\n",
              "            + ' to learn more about interactive tables.';\n",
              "          element.innerHTML = '';\n",
              "          dataTable['output_type'] = 'display_data';\n",
              "          await google.colab.output.renderOutput(dataTable, element);\n",
              "          const docLink = document.createElement('div');\n",
              "          docLink.innerHTML = docLinkHtml;\n",
              "          element.appendChild(docLink);\n",
              "        }\n",
              "      </script>\n",
              "    </div>\n",
              "  </div>\n",
              "  "
            ],
            "text/plain": [
              "         Pregnancies     Glucose  BloodPressure  SkinThickness     Insulin  \\\n",
              "Outcome                                                                      \n",
              "0           3.298000  109.980000      68.184000      19.664000   68.792000   \n",
              "1           4.865672  141.257463      70.824627      22.164179  100.335821   \n",
              "\n",
              "               BMI  DiabetesPedigreeFunction        Age  \n",
              "Outcome                                                  \n",
              "0        30.304200                  0.429734  31.190000  \n",
              "1        35.142537                  0.550500  37.067164  "
            ]
          },
          "execution_count": 20,
          "metadata": {},
          "output_type": "execute_result"
        }
      ],
      "source": [
        "diabetes_df.groupby(\"Outcome\").mean()"
      ]
    },
    {
      "cell_type": "markdown",
      "metadata": {
        "id": "ONGa2VCArOgk"
      },
      "source": [
        "###Exploring Glucose parameter"
      ]
    },
    {
      "cell_type": "code",
      "execution_count": null,
      "metadata": {
        "colab": {
          "base_uri": "https://localhost:8080/"
        },
        "id": "lp54U-7otakj",
        "outputId": "445245e7-4113-4c03-e670-7ded58086200"
      },
      "outputs": [
        {
          "name": "stdout",
          "output_type": "stream",
          "text": [
            "count    768.000000\n",
            "mean     120.894531\n",
            "std       31.972618\n",
            "min        0.000000\n",
            "25%       99.000000\n",
            "50%      117.000000\n",
            "75%      140.250000\n",
            "max      199.000000\n",
            "Name: Glucose, dtype: float64\n"
          ]
        }
      ],
      "source": [
        "glucose_stats = diabetes_df[\"Glucose\"].describe()\n",
        "print(glucose_stats)"
      ]
    },
    {
      "cell_type": "code",
      "execution_count": null,
      "metadata": {
        "colab": {
          "base_uri": "https://localhost:8080/",
          "height": 449
        },
        "id": "CND0kKfBlWTQ",
        "outputId": "c0dc9f19-4f73-4ca5-bf76-a3d2b96f28c8"
      },
      "outputs": [
        {
          "data": {
            "image/png": "[encoded data removed]",
            "text/plain": [
              "<Figure size 640x480 with 1 Axes>"
            ]
          },
          "metadata": {},
          "output_type": "display_data"
        }
      ],
      "source": [
        "plt.hist(diabetes_df[\"Glucose\"], bins=20)\n",
        "plt.xlabel(\"Glucose\")\n",
        "plt.ylabel(\"Frequency\")\n",
        "plt.show()"
      ]
    },
    {
      "cell_type": "code",
      "execution_count": null,
      "metadata": {
        "colab": {
          "base_uri": "https://localhost:8080/",
          "height": 466
        },
        "id": "0PUP85HsGzQs",
        "outputId": "5f727df6-12ec-4059-945c-5bcfd17fbaab"
      },
      "outputs": [
        {
          "data": {
            "text/plain": [
              "<Axes: xlabel='Outcome', ylabel='Glucose'>"
            ]
          },
          "execution_count": 23,
          "metadata": {},
          "output_type": "execute_result"
        },
        {
          "data": {
            "image/png": "[encoded data removed]",
            "text/plain": [
              "<Figure size 640x480 with 1 Axes>"
            ]
          },
          "metadata": {},
          "output_type": "display_data"
        }
      ],
      "source": [
        "sns.boxplot(x=\"Outcome\", y=\"Glucose\", data=diabetes_df)\n"
      ]
    },
    {
      "cell_type": "markdown",
      "metadata": {
        "id": "NduO7e2Ptzi6"
      },
      "source": [
        "From the graph it appears as if the mean range of Glucose level lies between 90 to 120. Now lets find out the age wise distribution of it"
      ]
    },
    {
      "cell_type": "code",
      "execution_count": null,
      "metadata": {
        "colab": {
          "base_uri": "https://localhost:8080/"
        },
        "id": "YwBv98XOrilt",
        "outputId": "02a8e30a-983a-4763-ab9e-f93f9148c228"
      },
      "outputs": [
        {
          "data": {
            "text/plain": [
              "Age\n",
              "21    100.725000\n",
              "22     98.170732\n",
              "23    101.750000\n",
              "24    103.344828\n",
              "25     96.500000\n",
              "26    104.736842\n",
              "27    101.315789\n",
              "28     97.555556\n",
              "29    105.071429\n",
              "30    108.250000\n",
              "31    101.692308\n",
              "32     97.300000\n",
              "33    104.142857\n",
              "34    107.500000\n",
              "35    100.500000\n",
              "36     96.400000\n",
              "37    108.400000\n",
              "38    107.250000\n",
              "39     90.000000\n",
              "40    109.750000\n",
              "41    102.000000\n",
              "42     99.166667\n",
              "43     99.600000\n",
              "44    107.500000\n",
              "45    107.000000\n",
              "46    102.000000\n",
              "48    107.600000\n",
              "50    105.500000\n",
              "52    103.666667\n",
              "53    105.000000\n",
              "54    109.000000\n",
              "55    103.000000\n",
              "56     98.333333\n",
              "57    104.500000\n",
              "58    104.333333\n",
              "60    109.000000\n",
              "62    105.000000\n",
              "63    101.000000\n",
              "64    120.000000\n",
              "65    103.000000\n",
              "66    114.000000\n",
              "68     91.000000\n",
              "72    119.000000\n",
              "Name: Glucose, dtype: float64"
            ]
          },
          "execution_count": 24,
          "metadata": {},
          "output_type": "execute_result"
        }
      ],
      "source": [
        "# Filter the dataset to only include observations with normal glucose levels\n",
        "normal_glucose_df = diabetes_df.loc[(diabetes_df[\"Glucose\"] >= 80) & (diabetes_df[\"Glucose\"] <= 120)]\n",
        "\n",
        "# Group the filtered dataset by age and compute the mean glucose level for each age group\n",
        "normal_glucose_by_age = normal_glucose_df.groupby(\"Age\")[\"Glucose\"].mean()\n",
        "normal_glucose_by_age"
      ]
    },
    {
      "cell_type": "code",
      "execution_count": null,
      "metadata": {
        "colab": {
          "base_uri": "https://localhost:8080/",
          "height": 449
        },
        "id": "xj5AuvjL1DS3",
        "outputId": "75a083d5-1dd5-4080-b897-8f63fc7415e2"
      },
      "outputs": [
        {
          "data": {
            "image/png": "[encoded data removed]",
            "text/plain": [
              "<Figure size 640x480 with 1 Axes>"
            ]
          },
          "metadata": {},
          "output_type": "display_data"
        }
      ],
      "source": [
        "plt.plot(normal_glucose_by_age.index, normal_glucose_by_age.values)\n",
        "plt.xlabel(\"Age\")\n",
        "plt.ylabel(\"Mean glucose level (mg/dL)\")\n",
        "plt.show()"
      ]
    },
    {
      "cell_type": "markdown",
      "metadata": {
        "id": "yCPOm5L22IKJ"
      },
      "source": [
        "Here we have found the distribution of mean glucose level of every age. But the problem is the range of normal glucose s different age. So we need to define the normal glucose level wrt to that"
      ]
    },
    {
      "cell_type": "code",
      "execution_count": null,
      "metadata": {
        "id": "D7AQ37iR1g3u"
      },
      "outputs": [],
      "source": [
        "# Define the age range bins\n",
        "age_bins = [20, 30, 40, 50, 60, 70, 80]\n",
        "\n",
        "# Define the age range labels\n",
        "age_labels = [\"20-29\", \"30-39\", \"40-49\", \"50-59\", \"60-69\", \"70-79\"]\n",
        "\n",
        "# Create a new column in the dataset indicating the age range for each observation\n",
        "diabetes_df[\"Age Range\"] = pd.cut(diabetes_df[\"Age\"], bins=age_bins, labels=age_labels, include_lowest=True)\n",
        "\n",
        "# Group the dataset by age range and compute the mean glucose level for each group\n",
        "glucose_by_age_range = diabetes_df.groupby(\"Age Range\")[\"Glucose\"].mean()\n",
        "\n"
      ]
    },
    {
      "cell_type": "code",
      "execution_count": null,
      "metadata": {
        "colab": {
          "base_uri": "https://localhost:8080/"
        },
        "id": "EOn8yTQwBRmc",
        "outputId": "5fa6e923-c8da-449f-99e1-958659546266"
      },
      "outputs": [
        {
          "data": {
            "text/plain": [
              "Age Range\n",
              "20-29    114.175060\n",
              "30-39    126.178344\n",
              "40-49    124.884956\n",
              "50-59    141.148148\n",
              "60-69    137.560000\n",
              "70-79    119.000000\n",
              "Name: Glucose, dtype: float64"
            ]
          },
          "execution_count": 27,
          "metadata": {},
          "output_type": "execute_result"
        }
      ],
      "source": [
        "glucose_by_age_range"
      ]
    },
    {
      "cell_type": "markdown",
      "metadata": {
        "id": "W8-crK0kDgos"
      },
      "source": [
        "We have found the mean Glucose level for the given range of ages for the data set"
      ]
    },
    {
      "cell_type": "markdown",
      "metadata": {
        "id": "bnnQ8o-CEtB4"
      },
      "source": [
        "### BMI parameter\n",
        "\n",
        "We will now explore the BMI parameter of the dataset"
      ]
    },
    {
      "cell_type": "code",
      "execution_count": null,
      "metadata": {
        "colab": {
          "base_uri": "https://localhost:8080/"
        },
        "id": "GE6_YaD7BUb2",
        "outputId": "fcecf222-0462-4dce-c9e6-c7549d6322d8"
      },
      "outputs": [
        {
          "data": {
            "text/plain": [
              "0"
            ]
          },
          "execution_count": 28,
          "metadata": {},
          "output_type": "execute_result"
        }
      ],
      "source": [
        "diabetes_df[\"BMI\"].isnull().sum()"
      ]
    },
    {
      "cell_type": "code",
      "execution_count": null,
      "metadata": {
        "colab": {
          "base_uri": "https://localhost:8080/"
        },
        "id": "RxVbSIb0FOby",
        "outputId": "e26bac56-bbc2-4259-f3f7-89342e7dab0f"
      },
      "outputs": [
        {
          "data": {
            "text/plain": [
              "count    768.000000\n",
              "mean      31.992578\n",
              "std        7.884160\n",
              "min        0.000000\n",
              "25%       27.300000\n",
              "50%       32.000000\n",
              "75%       36.600000\n",
              "max       67.100000\n",
              "Name: BMI, dtype: float64"
            ]
          },
          "execution_count": 29,
          "metadata": {},
          "output_type": "execute_result"
        }
      ],
      "source": [
        "diabetes_df[\"BMI\"].describe()"
      ]
    },
    {
      "cell_type": "code",
      "execution_count": null,
      "metadata": {
        "colab": {
          "base_uri": "https://localhost:8080/",
          "height": 466
        },
        "id": "wKN77x3iFRbI",
        "outputId": "dbe38257-3e6a-410c-a0fd-87a6df80a1ab"
      },
      "outputs": [
        {
          "data": {
            "text/plain": [
              "<Axes: xlabel='BMI', ylabel='Outcome'>"
            ]
          },
          "execution_count": 30,
          "metadata": {},
          "output_type": "execute_result"
        },
        {
          "data": {
            "image/png": "[encoded data removed]",
            "text/plain": [
              "<Figure size 640x480 with 1 Axes>"
            ]
          },
          "metadata": {},
          "output_type": "display_data"
        }
      ],
      "source": [
        "sns.scatterplot(x=\"BMI\", y=\"Outcome\", data=diabetes_df, hue=\"Outcome\")"
      ]
    },
    {
      "cell_type": "code",
      "execution_count": null,
      "metadata": {
        "colab": {
          "base_uri": "https://localhost:8080/",
          "height": 470
        },
        "id": "ROsVPQgtFpUq",
        "outputId": "d1d7e776-0c87-4311-b9da-ca4014838528"
      },
      "outputs": [
        {
          "data": {
            "text/plain": [
              "<Axes: xlabel='Outcome', ylabel='BMI'>"
            ]
          },
          "execution_count": 31,
          "metadata": {},
          "output_type": "execute_result"
        },
        {
          "data": {
            "image/png": "[encoded data removed]",
            "text/plain": [
              "<Figure size 640x480 with 1 Axes>"
            ]
          },
          "metadata": {},
          "output_type": "display_data"
        }
      ],
      "source": [
        "sns.boxplot(x=\"Outcome\", y=\"BMI\", data=diabetes_df)"
      ]
    },
    {
      "cell_type": "markdown",
      "metadata": {
        "id": "MsLw0UkOGc89"
      },
      "source": [
        "As there is not much difference between the BMI values of both the groups. Therefore BMI is not much of a determinant factor in detection of diabetes"
      ]
    },
    {
      "cell_type": "code",
      "execution_count": null,
      "metadata": {
        "colab": {
          "base_uri": "https://localhost:8080/",
          "height": 470
        },
        "id": "mxfACiPwF9I-",
        "outputId": "acbf6027-3b5a-4216-c67b-949fc98925df"
      },
      "outputs": [
        {
          "data": {
            "text/plain": [
              "<Axes: xlabel='Glucose', ylabel='BMI'>"
            ]
          },
          "execution_count": 32,
          "metadata": {},
          "output_type": "execute_result"
        },
        {
          "data": {
            "image/png": "[encoded data removed]",
            "text/plain": [
              "<Figure size 640x480 with 1 Axes>"
            ]
          },
          "metadata": {},
          "output_type": "display_data"
        }
      ],
      "source": [
        "sns.scatterplot(x=\"Glucose\", y=\"BMI\", data=diabetes_df[diabetes_df[\"Outcome\"] == 0], color=\"blue\")\n",
        "sns.scatterplot(x=\"Glucose\", y=\"BMI\", data=diabetes_df[diabetes_df[\"Outcome\"] == 1], color=\"orange\")"
      ]
    },
    {
      "cell_type": "markdown",
      "metadata": {
        "id": "P_mGELIYIB7-"
      },
      "source": [
        "This scatter plot shows that when Glucose of a person is high, the chances that he or she may be diabetic is high even: if the BMI level might lie in the normal range"
      ]
    },
    {
      "cell_type": "code",
      "execution_count": null,
      "metadata": {
        "id": "WcoF07FIHpJt"
      },
      "outputs": [],
      "source": [
        "# Seperating the data and the labels\n",
        "X=diabetes_df.drop(columns=['Outcome','Age Range'], axis=1)\n",
        "y=diabetes_df['Outcome']"
      ]
    },
    {
      "cell_type": "code",
      "execution_count": null,
      "metadata": {
        "colab": {
          "base_uri": "https://localhost:8080/",
          "height": 423
        },
        "id": "p2IzLJb8BY2J",
        "outputId": "fb766979-1829-45c0-99c0-70ad26150598"
      },
      "outputs": [
        {
          "data": {
            "text/html": [
              "\n",
              "  <div id=\"df-bf9ab534-4a88-4ea0-aada-eefa95389d58\">\n",
              "    <div class=\"colab-df-container\">\n",
              "      <div>\n",
              "<style scoped>\n",
              "    .dataframe tbody tr th:only-of-type {\n",
              "        vertical-align: middle;\n",
              "    }\n",
              "\n",
              "    .dataframe tbody tr th {\n",
              "        vertical-align: top;\n",
              "    }\n",
              "\n",
              "    .dataframe thead th {\n",
              "        text-align: right;\n",
              "    }\n",
              "</style>\n",
              "<table border=\"1\" class=\"dataframe\">\n",
              "  <thead>\n",
              "    <tr style=\"text-align: right;\">\n",
              "      <th></th>\n",
              "      <th>Pregnancies</th>\n",
              "      <th>Glucose</th>\n",
              "      <th>BloodPressure</th>\n",
              "      <th>SkinThickness</th>\n",
              "      <th>Insulin</th>\n",
              "      <th>BMI</th>\n",
              "      <th>DiabetesPedigreeFunction</th>\n",
              "      <th>Age</th>\n",
              "    </tr>\n",
              "  </thead>\n",
              "  <tbody>\n",
              "    <tr>\n",
              "      <th>0</th>\n",
              "      <td>6</td>\n",
              "      <td>148</td>\n",
              "      <td>72</td>\n",
              "      <td>35</td>\n",
              "      <td>0</td>\n",
              "      <td>33.6</td>\n",
              "      <td>0.627</td>\n",
              "      <td>50</td>\n",
              "    </tr>\n",
              "    <tr>\n",
              "      <th>1</th>\n",
              "      <td>1</td>\n",
              "      <td>85</td>\n",
              "      <td>66</td>\n",
              "      <td>29</td>\n",
              "      <td>0</td>\n",
              "      <td>26.6</td>\n",
              "      <td>0.351</td>\n",
              "      <td>31</td>\n",
              "    </tr>\n",
              "    <tr>\n",
              "      <th>2</th>\n",
              "      <td>8</td>\n",
              "      <td>183</td>\n",
              "      <td>64</td>\n",
              "      <td>0</td>\n",
              "      <td>0</td>\n",
              "      <td>23.3</td>\n",
              "      <td>0.672</td>\n",
              "      <td>32</td>\n",
              "    </tr>\n",
              "    <tr>\n",
              "      <th>3</th>\n",
              "      <td>1</td>\n",
              "      <td>89</td>\n",
              "      <td>66</td>\n",
              "      <td>23</td>\n",
              "      <td>94</td>\n",
              "      <td>28.1</td>\n",
              "      <td>0.167</td>\n",
              "      <td>21</td>\n",
              "    </tr>\n",
              "    <tr>\n",
              "      <th>4</th>\n",
              "      <td>0</td>\n",
              "      <td>137</td>\n",
              "      <td>40</td>\n",
              "      <td>35</td>\n",
              "      <td>168</td>\n",
              "      <td>43.1</td>\n",
              "      <td>2.288</td>\n",
              "      <td>33</td>\n",
              "    </tr>\n",
              "    <tr>\n",
              "      <th>...</th>\n",
              "      <td>...</td>\n",
              "      <td>...</td>\n",
              "      <td>...</td>\n",
              "      <td>...</td>\n",
              "      <td>...</td>\n",
              "      <td>...</td>\n",
              "      <td>...</td>\n",
              "      <td>...</td>\n",
              "    </tr>\n",
              "    <tr>\n",
              "      <th>763</th>\n",
              "      <td>10</td>\n",
              "      <td>101</td>\n",
              "      <td>76</td>\n",
              "      <td>48</td>\n",
              "      <td>180</td>\n",
              "      <td>32.9</td>\n",
              "      <td>0.171</td>\n",
              "      <td>63</td>\n",
              "    </tr>\n",
              "    <tr>\n",
              "      <th>764</th>\n",
              "      <td>2</td>\n",
              "      <td>122</td>\n",
              "      <td>70</td>\n",
              "      <td>27</td>\n",
              "      <td>0</td>\n",
              "      <td>36.8</td>\n",
              "      <td>0.340</td>\n",
              "      <td>27</td>\n",
              "    </tr>\n",
              "    <tr>\n",
              "      <th>765</th>\n",
              "      <td>5</td>\n",
              "      <td>121</td>\n",
              "      <td>72</td>\n",
              "      <td>23</td>\n",
              "      <td>112</td>\n",
              "      <td>26.2</td>\n",
              "      <td>0.245</td>\n",
              "      <td>30</td>\n",
              "    </tr>\n",
              "    <tr>\n",
              "      <th>766</th>\n",
              "      <td>1</td>\n",
              "      <td>126</td>\n",
              "      <td>60</td>\n",
              "      <td>0</td>\n",
              "      <td>0</td>\n",
              "      <td>30.1</td>\n",
              "      <td>0.349</td>\n",
              "      <td>47</td>\n",
              "    </tr>\n",
              "    <tr>\n",
              "      <th>767</th>\n",
              "      <td>1</td>\n",
              "      <td>93</td>\n",
              "      <td>70</td>\n",
              "      <td>31</td>\n",
              "      <td>0</td>\n",
              "      <td>30.4</td>\n",
              "      <td>0.315</td>\n",
              "      <td>23</td>\n",
              "    </tr>\n",
              "  </tbody>\n",
              "</table>\n",
              "<p>768 rows × 8 columns</p>\n",
              "</div>\n",
              "      <button class=\"colab-df-convert\" onclick=\"convertToInteractive('df-bf9ab534-4a88-4ea0-aada-eefa95389d58')\"\n",
              "              title=\"Convert this dataframe to an interactive table.\"\n",
              "              style=\"display:none;\">\n",
              "        \n",
              "  <svg xmlns=\"http://www.w3.org/2000/svg\" height=\"24px\"viewBox=\"0 0 24 24\"\n",
              "       width=\"24px\">\n",
              "    <path d=\"M0 0h24v24H0V0z\" fill=\"none\"/>\n",
              "    <path d=\"M18.56 5.44l.94 2.06.94-2.06 2.06-.94-2.06-.94-.94-2.06-.94 2.06-2.06.94zm-11 1L8.5 8.5l.94-2.06 2.06-.94-2.06-.94L8.5 2.5l-.94 2.06-2.06.94zm10 10l.94 2.06.94-2.06 2.06-.94-2.06-.94-.94-2.06-.94 2.06-2.06.94z\"/><path d=\"M17.41 7.96l-1.37-1.37c-.4-.4-.92-.59-1.43-.59-.52 0-1.04.2-1.43.59L10.3 9.45l-7.72 7.72c-.78.78-.78 2.05 0 2.83L4 21.41c.39.39.9.59 1.41.59.51 0 1.02-.2 1.41-.59l7.78-7.78 2.81-2.81c.8-.78.8-2.07 0-2.86zM5.41 20L4 18.59l7.72-7.72 1.47 1.35L5.41 20z\"/>\n",
              "  </svg>\n",
              "      </button>\n",
              "      \n",
              "  <style>\n",
              "    .colab-df-container {\n",
              "      display:flex;\n",
              "      flex-wrap:wrap;\n",
              "      gap: 12px;\n",
              "    }\n",
              "\n",
              "    .colab-df-convert {\n",
              "      background-color: #E8F0FE;\n",
              "      border: none;\n",
              "      border-radius: 50%;\n",
              "      cursor: pointer;\n",
              "      display: none;\n",
              "      fill: #1967D2;\n",
              "      height: 32px;\n",
              "      padding: 0 0 0 0;\n",
              "      width: 32px;\n",
              "    }\n",
              "\n",
              "    .colab-df-convert:hover {\n",
              "      background-color: #E2EBFA;\n",
              "      box-shadow: 0px 1px 2px rgba(60, 64, 67, 0.3), 0px 1px 3px 1px rgba(60, 64, 67, 0.15);\n",
              "      fill: #174EA6;\n",
              "    }\n",
              "\n",
              "    [theme=dark] .colab-df-convert {\n",
              "      background-color: #3B4455;\n",
              "      fill: #D2E3FC;\n",
              "    }\n",
              "\n",
              "    [theme=dark] .colab-df-convert:hover {\n",
              "      background-color: #434B5C;\n",
              "      box-shadow: 0px 1px 3px 1px rgba(0, 0, 0, 0.15);\n",
              "      filter: drop-shadow(0px 1px 2px rgba(0, 0, 0, 0.3));\n",
              "      fill: #FFFFFF;\n",
              "    }\n",
              "  </style>\n",
              "\n",
              "      <script>\n",
              "        const buttonEl =\n",
              "          document.querySelector('#df-bf9ab534-4a88-4ea0-aada-eefa95389d58 button.colab-df-convert');\n",
              "        buttonEl.style.display =\n",
              "          google.colab.kernel.accessAllowed ? 'block' : 'none';\n",
              "\n",
              "        async function convertToInteractive(key) {\n",
              "          const element = document.querySelector('#df-bf9ab534-4a88-4ea0-aada-eefa95389d58');\n",
              "          const dataTable =\n",
              "            await google.colab.kernel.invokeFunction('convertToInteractive',\n",
              "                                                     [key], {});\n",
              "          if (!dataTable) return;\n",
              "\n",
              "          const docLinkHtml = 'Like what you see? Visit the ' +\n",
              "            '<a target=\"_blank\" href=https://colab.research.google.com/notebooks/data_table.ipynb>data table notebook</a>'\n",
              "            + ' to learn more about interactive tables.';\n",
              "          element.innerHTML = '';\n",
              "          dataTable['output_type'] = 'display_data';\n",
              "          await google.colab.output.renderOutput(dataTable, element);\n",
              "          const docLink = document.createElement('div');\n",
              "          docLink.innerHTML = docLinkHtml;\n",
              "          element.appendChild(docLink);\n",
              "        }\n",
              "      </script>\n",
              "    </div>\n",
              "  </div>\n",
              "  "
            ],
            "text/plain": [
              "     Pregnancies  Glucose  BloodPressure  SkinThickness  Insulin   BMI  \\\n",
              "0              6      148             72             35        0  33.6   \n",
              "1              1       85             66             29        0  26.6   \n",
              "2              8      183             64              0        0  23.3   \n",
              "3              1       89             66             23       94  28.1   \n",
              "4              0      137             40             35      168  43.1   \n",
              "..           ...      ...            ...            ...      ...   ...   \n",
              "763           10      101             76             48      180  32.9   \n",
              "764            2      122             70             27        0  36.8   \n",
              "765            5      121             72             23      112  26.2   \n",
              "766            1      126             60              0        0  30.1   \n",
              "767            1       93             70             31        0  30.4   \n",
              "\n",
              "     DiabetesPedigreeFunction  Age  \n",
              "0                       0.627   50  \n",
              "1                       0.351   31  \n",
              "2                       0.672   32  \n",
              "3                       0.167   21  \n",
              "4                       2.288   33  \n",
              "..                        ...  ...  \n",
              "763                     0.171   63  \n",
              "764                     0.340   27  \n",
              "765                     0.245   30  \n",
              "766                     0.349   47  \n",
              "767                     0.315   23  \n",
              "\n",
              "[768 rows x 8 columns]"
            ]
          },
          "execution_count": 34,
          "metadata": {},
          "output_type": "execute_result"
        }
      ],
      "source": [
        "X"
      ]
    },
    {
      "cell_type": "markdown",
      "metadata": {
        "id": "KnfilRChhZo-"
      },
      "source": [
        "###Data Standardization"
      ]
    },
    {
      "cell_type": "code",
      "execution_count": null,
      "metadata": {
        "id": "d_gZPhY2e8KJ"
      },
      "outputs": [],
      "source": [
        "scalar=StandardScaler()\n",
        "X_standard=scalar.fit_transform(X)\n",
        "X=X_standard"
      ]
    },
    {
      "cell_type": "code",
      "execution_count": null,
      "metadata": {
        "id": "iPVt3GrPg0KX"
      },
      "outputs": [],
      "source": [
        "#splitting the data\n",
        "\n",
        "X_train,X_test,y_train,y_test= train_test_split(X,y,test_size=0.2, stratify=y, random_state=42)"
      ]
    },
    {
      "cell_type": "markdown",
      "metadata": {
        "id": "VAyfHAB9lQyx"
      },
      "source": [
        "###Implementing Logistic Regression model to solve the classification problem"
      ]
    },
    {
      "cell_type": "code",
      "execution_count": null,
      "metadata": {
        "colab": {
          "base_uri": "https://localhost:8080/",
          "height": 74
        },
        "id": "3GQ_jO0yio12",
        "outputId": "cd1a94dd-3994-4ae4-fc46-9c1cf075bd5c"
      },
      "outputs": [
        {
          "data": {
            "text/html": [
              "<style>#sk-container-id-1 {color: black;background-color: white;}#sk-container-id-1 pre{padding: 0;}#sk-container-id-1 div.sk-toggleable {background-color: white;}#sk-container-id-1 label.sk-toggleable__label {cursor: pointer;display: block;width: 100%;margin-bottom: 0;padding: 0.3em;box-sizing: border-box;text-align: center;}#sk-container-id-1 label.sk-toggleable__label-arrow:before {content: \"▸\";float: left;margin-right: 0.25em;color: #696969;}#sk-container-id-1 label.sk-toggleable__label-arrow:hover:before {color: black;}#sk-container-id-1 div.sk-estimator:hover label.sk-toggleable__label-arrow:before {color: black;}#sk-container-id-1 div.sk-toggleable__content {max-height: 0;max-width: 0;overflow: hidden;text-align: left;background-color: #f0f8ff;}#sk-container-id-1 div.sk-toggleable__content pre {margin: 0.2em;color: black;border-radius: 0.25em;background-color: #f0f8ff;}#sk-container-id-1 input.sk-toggleable__control:checked~div.sk-toggleable__content {max-height: 200px;max-width: 100%;overflow: auto;}#sk-container-id-1 input.sk-toggleable__control:checked~label.sk-toggleable__label-arrow:before {content: \"▾\";}#sk-container-id-1 div.sk-estimator input.sk-toggleable__control:checked~label.sk-toggleable__label {background-color: #d4ebff;}#sk-container-id-1 div.sk-label input.sk-toggleable__control:checked~label.sk-toggleable__label {background-color: #d4ebff;}#sk-container-id-1 input.sk-hidden--visually {border: 0;clip: rect(1px 1px 1px 1px);clip: rect(1px, 1px, 1px, 1px);height: 1px;margin: -1px;overflow: hidden;padding: 0;position: absolute;width: 1px;}#sk-container-id-1 div.sk-estimator {font-family: monospace;background-color: #f0f8ff;border: 1px dotted black;border-radius: 0.25em;box-sizing: border-box;margin-bottom: 0.5em;}#sk-container-id-1 div.sk-estimator:hover {background-color: #d4ebff;}#sk-container-id-1 div.sk-parallel-item::after {content: \"\";width: 100%;border-bottom: 1px solid gray;flex-grow: 1;}#sk-container-id-1 div.sk-label:hover label.sk-toggleable__label {background-color: #d4ebff;}#sk-container-id-1 div.sk-serial::before {content: \"\";position: absolute;border-left: 1px solid gray;box-sizing: border-box;top: 0;bottom: 0;left: 50%;z-index: 0;}#sk-container-id-1 div.sk-serial {display: flex;flex-direction: column;align-items: center;background-color: white;padding-right: 0.2em;padding-left: 0.2em;position: relative;}#sk-container-id-1 div.sk-item {position: relative;z-index: 1;}#sk-container-id-1 div.sk-parallel {display: flex;align-items: stretch;justify-content: center;background-color: white;position: relative;}#sk-container-id-1 div.sk-item::before, #sk-container-id-1 div.sk-parallel-item::before {content: \"\";position: absolute;border-left: 1px solid gray;box-sizing: border-box;top: 0;bottom: 0;left: 50%;z-index: -1;}#sk-container-id-1 div.sk-parallel-item {display: flex;flex-direction: column;z-index: 1;position: relative;background-color: white;}#sk-container-id-1 div.sk-parallel-item:first-child::after {align-self: flex-end;width: 50%;}#sk-container-id-1 div.sk-parallel-item:last-child::after {align-self: flex-start;width: 50%;}#sk-container-id-1 div.sk-parallel-item:only-child::after {width: 0;}#sk-container-id-1 div.sk-dashed-wrapped {border: 1px dashed gray;margin: 0 0.4em 0.5em 0.4em;box-sizing: border-box;padding-bottom: 0.4em;background-color: white;}#sk-container-id-1 div.sk-label label {font-family: monospace;font-weight: bold;display: inline-block;line-height: 1.2em;}#sk-container-id-1 div.sk-label-container {text-align: center;}#sk-container-id-1 div.sk-container {/* jupyter's `normalize.less` sets `[hidden] { display: none; }` but bootstrap.min.css set `[hidden] { display: none !important; }` so we also need the `!important` here to be able to override the default hidden behavior on the sphinx rendered scikit-learn.org. See: https://github.com/scikit-learn/scikit-learn/issues/21755 */display: inline-block !important;position: relative;}#sk-container-id-1 div.sk-text-repr-fallback {display: none;}</style><div id=\"sk-container-id-1\" class=\"sk-top-container\"><div class=\"sk-text-repr-fallback\"><pre>LogisticRegression()</pre><b>In a Jupyter environment, please rerun this cell to show the HTML representation or trust the notebook. <br />On GitHub, the HTML representation is unable to render, please try loading this page with nbviewer.org.</b></div><div class=\"sk-container\" hidden><div class=\"sk-item\"><div class=\"sk-estimator sk-toggleable\"><input class=\"sk-toggleable__control sk-hidden--visually\" id=\"sk-estimator-id-1\" type=\"checkbox\" checked><label for=\"sk-estimator-id-1\" class=\"sk-toggleable__label sk-toggleable__label-arrow\">LogisticRegression</label><div class=\"sk-toggleable__content\"><pre>LogisticRegression()</pre></div></div></div></div></div>"
            ],
            "text/plain": [
              "LogisticRegression()"
            ]
          },
          "execution_count": 37,
          "metadata": {},
          "output_type": "execute_result"
        }
      ],
      "source": [
        "logreg=LogisticRegression()\n",
        "logreg.fit(X_train,y_train)"
      ]
    },
    {
      "cell_type": "code",
      "execution_count": null,
      "metadata": {
        "id": "vuNEAmBWlmul"
      },
      "outputs": [],
      "source": [
        "# Use trained model to make predictions on test data\n",
        "y_pred = logreg.predict(X_test)"
      ]
    },
    {
      "cell_type": "code",
      "execution_count": null,
      "metadata": {
        "colab": {
          "base_uri": "https://localhost:8080/"
        },
        "id": "puZSSYbXls-W",
        "outputId": "4c2c7bec-53a2-4edc-9a37-1ef18b615582"
      },
      "outputs": [
        {
          "name": "stdout",
          "output_type": "stream",
          "text": [
            "Accuracy: 0.7142857142857143\n",
            "Precision: 0.6086956521739131\n",
            "Recall: 0.5185185185185185\n",
            "F1-score: 0.5599999999999999\n"
          ]
        }
      ],
      "source": [
        "# Evaluate performance of logistic regression model\n",
        "accuracy = accuracy_score(y_test, y_pred)\n",
        "precision = precision_score(y_test, y_pred)\n",
        "recall = recall_score(y_test, y_pred)\n",
        "f1 = f1_score(y_test, y_pred)\n",
        "\n",
        "print(\"Accuracy:\", accuracy)\n",
        "print(\"Precision:\", precision)\n",
        "print(\"Recall:\", recall)\n",
        "print(\"F1-score:\", f1)"
      ]
    },
    {
      "cell_type": "markdown",
      "metadata": {
        "id": "FHLCqvwsmEze"
      },
      "source": [
        "This basic model is abbout 72 percent accurate. We can improve the accuracy score by using hyperparameter tuning\n",
        "\n",
        "Therefore we will perform GridSearch CV on the above model"
      ]
    },
    {
      "cell_type": "code",
      "execution_count": null,
      "metadata": {
        "colab": {
          "base_uri": "https://localhost:8080/",
          "height": 117
        },
        "id": "KJu8sN2Hly6W",
        "outputId": "8a2548fd-f3ac-4352-950c-df62ac10c77f"
      },
      "outputs": [
        {
          "data": {
            "text/html": [
              "<style>#sk-container-id-2 {color: black;background-color: white;}#sk-container-id-2 pre{padding: 0;}#sk-container-id-2 div.sk-toggleable {background-color: white;}#sk-container-id-2 label.sk-toggleable__label {cursor: pointer;display: block;width: 100%;margin-bottom: 0;padding: 0.3em;box-sizing: border-box;text-align: center;}#sk-container-id-2 label.sk-toggleable__label-arrow:before {content: \"▸\";float: left;margin-right: 0.25em;color: #696969;}#sk-container-id-2 label.sk-toggleable__label-arrow:hover:before {color: black;}#sk-container-id-2 div.sk-estimator:hover label.sk-toggleable__label-arrow:before {color: black;}#sk-container-id-2 div.sk-toggleable__content {max-height: 0;max-width: 0;overflow: hidden;text-align: left;background-color: #f0f8ff;}#sk-container-id-2 div.sk-toggleable__content pre {margin: 0.2em;color: black;border-radius: 0.25em;background-color: #f0f8ff;}#sk-container-id-2 input.sk-toggleable__control:checked~div.sk-toggleable__content {max-height: 200px;max-width: 100%;overflow: auto;}#sk-container-id-2 input.sk-toggleable__control:checked~label.sk-toggleable__label-arrow:before {content: \"▾\";}#sk-container-id-2 div.sk-estimator input.sk-toggleable__control:checked~label.sk-toggleable__label {background-color: #d4ebff;}#sk-container-id-2 div.sk-label input.sk-toggleable__control:checked~label.sk-toggleable__label {background-color: #d4ebff;}#sk-container-id-2 input.sk-hidden--visually {border: 0;clip: rect(1px 1px 1px 1px);clip: rect(1px, 1px, 1px, 1px);height: 1px;margin: -1px;overflow: hidden;padding: 0;position: absolute;width: 1px;}#sk-container-id-2 div.sk-estimator {font-family: monospace;background-color: #f0f8ff;border: 1px dotted black;border-radius: 0.25em;box-sizing: border-box;margin-bottom: 0.5em;}#sk-container-id-2 div.sk-estimator:hover {background-color: #d4ebff;}#sk-container-id-2 div.sk-parallel-item::after {content: \"\";width: 100%;border-bottom: 1px solid gray;flex-grow: 1;}#sk-container-id-2 div.sk-label:hover label.sk-toggleable__label {background-color: #d4ebff;}#sk-container-id-2 div.sk-serial::before {content: \"\";position: absolute;border-left: 1px solid gray;box-sizing: border-box;top: 0;bottom: 0;left: 50%;z-index: 0;}#sk-container-id-2 div.sk-serial {display: flex;flex-direction: column;align-items: center;background-color: white;padding-right: 0.2em;padding-left: 0.2em;position: relative;}#sk-container-id-2 div.sk-item {position: relative;z-index: 1;}#sk-container-id-2 div.sk-parallel {display: flex;align-items: stretch;justify-content: center;background-color: white;position: relative;}#sk-container-id-2 div.sk-item::before, #sk-container-id-2 div.sk-parallel-item::before {content: \"\";position: absolute;border-left: 1px solid gray;box-sizing: border-box;top: 0;bottom: 0;left: 50%;z-index: -1;}#sk-container-id-2 div.sk-parallel-item {display: flex;flex-direction: column;z-index: 1;position: relative;background-color: white;}#sk-container-id-2 div.sk-parallel-item:first-child::after {align-self: flex-end;width: 50%;}#sk-container-id-2 div.sk-parallel-item:last-child::after {align-self: flex-start;width: 50%;}#sk-container-id-2 div.sk-parallel-item:only-child::after {width: 0;}#sk-container-id-2 div.sk-dashed-wrapped {border: 1px dashed gray;margin: 0 0.4em 0.5em 0.4em;box-sizing: border-box;padding-bottom: 0.4em;background-color: white;}#sk-container-id-2 div.sk-label label {font-family: monospace;font-weight: bold;display: inline-block;line-height: 1.2em;}#sk-container-id-2 div.sk-label-container {text-align: center;}#sk-container-id-2 div.sk-container {/* jupyter's `normalize.less` sets `[hidden] { display: none; }` but bootstrap.min.css set `[hidden] { display: none !important; }` so we also need the `!important` here to be able to override the default hidden behavior on the sphinx rendered scikit-learn.org. See: https://github.com/scikit-learn/scikit-learn/issues/21755 */display: inline-block !important;position: relative;}#sk-container-id-2 div.sk-text-repr-fallback {display: none;}</style><div id=\"sk-container-id-2\" class=\"sk-top-container\"><div class=\"sk-text-repr-fallback\"><pre>GridSearchCV(cv=5, estimator=LogisticRegression(),\n",
              "             param_grid={&#x27;C&#x27;: [0.1, 1, 10], &#x27;penalty&#x27;: [&#x27;l1&#x27;, &#x27;l2&#x27;],\n",
              "                         &#x27;solver&#x27;: [&#x27;liblinear&#x27;, &#x27;saga&#x27;]})</pre><b>In a Jupyter environment, please rerun this cell to show the HTML representation or trust the notebook. <br />On GitHub, the HTML representation is unable to render, please try loading this page with nbviewer.org.</b></div><div class=\"sk-container\" hidden><div class=\"sk-item sk-dashed-wrapped\"><div class=\"sk-label-container\"><div class=\"sk-label sk-toggleable\"><input class=\"sk-toggleable__control sk-hidden--visually\" id=\"sk-estimator-id-2\" type=\"checkbox\" ><label for=\"sk-estimator-id-2\" class=\"sk-toggleable__label sk-toggleable__label-arrow\">GridSearchCV</label><div class=\"sk-toggleable__content\"><pre>GridSearchCV(cv=5, estimator=LogisticRegression(),\n",
              "             param_grid={&#x27;C&#x27;: [0.1, 1, 10], &#x27;penalty&#x27;: [&#x27;l1&#x27;, &#x27;l2&#x27;],\n",
              "                         &#x27;solver&#x27;: [&#x27;liblinear&#x27;, &#x27;saga&#x27;]})</pre></div></div></div><div class=\"sk-parallel\"><div class=\"sk-parallel-item\"><div class=\"sk-item\"><div class=\"sk-label-container\"><div class=\"sk-label sk-toggleable\"><input class=\"sk-toggleable__control sk-hidden--visually\" id=\"sk-estimator-id-3\" type=\"checkbox\" ><label for=\"sk-estimator-id-3\" class=\"sk-toggleable__label sk-toggleable__label-arrow\">estimator: LogisticRegression</label><div class=\"sk-toggleable__content\"><pre>LogisticRegression()</pre></div></div></div><div class=\"sk-serial\"><div class=\"sk-item\"><div class=\"sk-estimator sk-toggleable\"><input class=\"sk-toggleable__control sk-hidden--visually\" id=\"sk-estimator-id-4\" type=\"checkbox\" ><label for=\"sk-estimator-id-4\" class=\"sk-toggleable__label sk-toggleable__label-arrow\">LogisticRegression</label><div class=\"sk-toggleable__content\"><pre>LogisticRegression()</pre></div></div></div></div></div></div></div></div></div></div>"
            ],
            "text/plain": [
              "GridSearchCV(cv=5, estimator=LogisticRegression(),\n",
              "             param_grid={'C': [0.1, 1, 10], 'penalty': ['l1', 'l2'],\n",
              "                         'solver': ['liblinear', 'saga']})"
            ]
          },
          "execution_count": 40,
          "metadata": {},
          "output_type": "execute_result"
        }
      ],
      "source": [
        "from sklearn.model_selection import GridSearchCV\n",
        "\n",
        "# Define hyperparameters and their values for grid search\n",
        "hyperparameters = {\n",
        "    'penalty': ['l1', 'l2'],\n",
        "    'C': [0.1, 1, 10],\n",
        "    'solver': ['liblinear', 'saga']\n",
        "}\n",
        "\n",
        "clf= GridSearchCV(logreg, hyperparameters,cv=5)\n",
        "clf.fit(X_train, y_train)"
      ]
    },
    {
      "cell_type": "code",
      "execution_count": null,
      "metadata": {
        "colab": {
          "base_uri": "https://localhost:8080/"
        },
        "id": "e-tYsArbnRf8",
        "outputId": "d66fd715-9faf-4aee-bb56-0e228a4ad33f"
      },
      "outputs": [
        {
          "name": "stdout",
          "output_type": "stream",
          "text": [
            "Best penalty: l1\n",
            "Best C: 1\n",
            "Best solver: liblinear\n"
          ]
        }
      ],
      "source": [
        "# Print best hyperparameters\n",
        "print('Best penalty:', clf.best_estimator_.get_params()['penalty'])\n",
        "print('Best C:', clf.best_estimator_.get_params()['C'])\n",
        "print('Best solver:', clf.best_estimator_.get_params()['solver'])"
      ]
    },
    {
      "cell_type": "code",
      "execution_count": null,
      "metadata": {
        "colab": {
          "base_uri": "https://localhost:8080/",
          "height": 74
        },
        "id": "GQEYuXx9ndPl",
        "outputId": "2a928c6c-9629-439a-cea2-2a79f5209c7e"
      },
      "outputs": [
        {
          "data": {
            "text/html": [
              "<style>#sk-container-id-3 {color: black;background-color: white;}#sk-container-id-3 pre{padding: 0;}#sk-container-id-3 div.sk-toggleable {background-color: white;}#sk-container-id-3 label.sk-toggleable__label {cursor: pointer;display: block;width: 100%;margin-bottom: 0;padding: 0.3em;box-sizing: border-box;text-align: center;}#sk-container-id-3 label.sk-toggleable__label-arrow:before {content: \"▸\";float: left;margin-right: 0.25em;color: #696969;}#sk-container-id-3 label.sk-toggleable__label-arrow:hover:before {color: black;}#sk-container-id-3 div.sk-estimator:hover label.sk-toggleable__label-arrow:before {color: black;}#sk-container-id-3 div.sk-toggleable__content {max-height: 0;max-width: 0;overflow: hidden;text-align: left;background-color: #f0f8ff;}#sk-container-id-3 div.sk-toggleable__content pre {margin: 0.2em;color: black;border-radius: 0.25em;background-color: #f0f8ff;}#sk-container-id-3 input.sk-toggleable__control:checked~div.sk-toggleable__content {max-height: 200px;max-width: 100%;overflow: auto;}#sk-container-id-3 input.sk-toggleable__control:checked~label.sk-toggleable__label-arrow:before {content: \"▾\";}#sk-container-id-3 div.sk-estimator input.sk-toggleable__control:checked~label.sk-toggleable__label {background-color: #d4ebff;}#sk-container-id-3 div.sk-label input.sk-toggleable__control:checked~label.sk-toggleable__label {background-color: #d4ebff;}#sk-container-id-3 input.sk-hidden--visually {border: 0;clip: rect(1px 1px 1px 1px);clip: rect(1px, 1px, 1px, 1px);height: 1px;margin: -1px;overflow: hidden;padding: 0;position: absolute;width: 1px;}#sk-container-id-3 div.sk-estimator {font-family: monospace;background-color: #f0f8ff;border: 1px dotted black;border-radius: 0.25em;box-sizing: border-box;margin-bottom: 0.5em;}#sk-container-id-3 div.sk-estimator:hover {background-color: #d4ebff;}#sk-container-id-3 div.sk-parallel-item::after {content: \"\";width: 100%;border-bottom: 1px solid gray;flex-grow: 1;}#sk-container-id-3 div.sk-label:hover label.sk-toggleable__label {background-color: #d4ebff;}#sk-container-id-3 div.sk-serial::before {content: \"\";position: absolute;border-left: 1px solid gray;box-sizing: border-box;top: 0;bottom: 0;left: 50%;z-index: 0;}#sk-container-id-3 div.sk-serial {display: flex;flex-direction: column;align-items: center;background-color: white;padding-right: 0.2em;padding-left: 0.2em;position: relative;}#sk-container-id-3 div.sk-item {position: relative;z-index: 1;}#sk-container-id-3 div.sk-parallel {display: flex;align-items: stretch;justify-content: center;background-color: white;position: relative;}#sk-container-id-3 div.sk-item::before, #sk-container-id-3 div.sk-parallel-item::before {content: \"\";position: absolute;border-left: 1px solid gray;box-sizing: border-box;top: 0;bottom: 0;left: 50%;z-index: -1;}#sk-container-id-3 div.sk-parallel-item {display: flex;flex-direction: column;z-index: 1;position: relative;background-color: white;}#sk-container-id-3 div.sk-parallel-item:first-child::after {align-self: flex-end;width: 50%;}#sk-container-id-3 div.sk-parallel-item:last-child::after {align-self: flex-start;width: 50%;}#sk-container-id-3 div.sk-parallel-item:only-child::after {width: 0;}#sk-container-id-3 div.sk-dashed-wrapped {border: 1px dashed gray;margin: 0 0.4em 0.5em 0.4em;box-sizing: border-box;padding-bottom: 0.4em;background-color: white;}#sk-container-id-3 div.sk-label label {font-family: monospace;font-weight: bold;display: inline-block;line-height: 1.2em;}#sk-container-id-3 div.sk-label-container {text-align: center;}#sk-container-id-3 div.sk-container {/* jupyter's `normalize.less` sets `[hidden] { display: none; }` but bootstrap.min.css set `[hidden] { display: none !important; }` so we also need the `!important` here to be able to override the default hidden behavior on the sphinx rendered scikit-learn.org. See: https://github.com/scikit-learn/scikit-learn/issues/21755 */display: inline-block !important;position: relative;}#sk-container-id-3 div.sk-text-repr-fallback {display: none;}</style><div id=\"sk-container-id-3\" class=\"sk-top-container\"><div class=\"sk-text-repr-fallback\"><pre>LogisticRegression(C=1, penalty=&#x27;l1&#x27;, solver=&#x27;liblinear&#x27;)</pre><b>In a Jupyter environment, please rerun this cell to show the HTML representation or trust the notebook. <br />On GitHub, the HTML representation is unable to render, please try loading this page with nbviewer.org.</b></div><div class=\"sk-container\" hidden><div class=\"sk-item\"><div class=\"sk-estimator sk-toggleable\"><input class=\"sk-toggleable__control sk-hidden--visually\" id=\"sk-estimator-id-5\" type=\"checkbox\" checked><label for=\"sk-estimator-id-5\" class=\"sk-toggleable__label sk-toggleable__label-arrow\">LogisticRegression</label><div class=\"sk-toggleable__content\"><pre>LogisticRegression(C=1, penalty=&#x27;l1&#x27;, solver=&#x27;liblinear&#x27;)</pre></div></div></div></div></div>"
            ],
            "text/plain": [
              "LogisticRegression(C=1, penalty='l1', solver='liblinear')"
            ]
          },
          "execution_count": 42,
          "metadata": {},
          "output_type": "execute_result"
        }
      ],
      "source": [
        "logreg1=LogisticRegression(penalty='l1', C=1,solver='liblinear')\n",
        "logreg1.fit(X_train,y_train)"
      ]
    },
    {
      "cell_type": "code",
      "execution_count": null,
      "metadata": {
        "id": "crCArEZ_n2zS"
      },
      "outputs": [],
      "source": [
        "y_pred2 = logreg1.predict(X_test)"
      ]
    },
    {
      "cell_type": "code",
      "execution_count": null,
      "metadata": {
        "colab": {
          "base_uri": "https://localhost:8080/"
        },
        "id": "rJzVpk1dn9M7",
        "outputId": "8221720a-40c7-4b26-f78c-f496bfaa0eb0"
      },
      "outputs": [
        {
          "name": "stdout",
          "output_type": "stream",
          "text": [
            "Accuracy: 0.7142857142857143\n",
            "Precision: 0.6086956521739131\n",
            "Recall: 0.5185185185185185\n",
            "F1-score: 0.5599999999999999\n"
          ]
        }
      ],
      "source": [
        "accuracy = accuracy_score(y_test, y_pred2)\n",
        "precision = precision_score(y_test, y_pred2)\n",
        "recall = recall_score(y_test, y_pred2)\n",
        "f1 = f1_score(y_test, y_pred2)\n",
        "\n",
        "print(\"Accuracy:\", accuracy)\n",
        "print(\"Precision:\", precision)\n",
        "print(\"Recall:\", recall)\n",
        "print(\"F1-score:\", f1)"
      ]
    },
    {
      "cell_type": "code",
      "execution_count": null,
      "metadata": {
        "colab": {
          "base_uri": "https://localhost:8080/"
        },
        "id": "U0hgMS_DoEwV",
        "outputId": "ebd0f6da-6c60-4fb2-9999-b0ee5ea69be5"
      },
      "outputs": [
        {
          "name": "stdout",
          "output_type": "stream",
          "text": [
            "Training Accuracy: 0.7931596091205212\n"
          ]
        }
      ],
      "source": [
        "y_pred = logreg1.predict(X_train)\n",
        "accuracy = accuracy_score(y_train, y_pred)\n",
        "print(f\"Training Accuracy: {accuracy}\")"
      ]
    },
    {
      "cell_type": "markdown",
      "metadata": {
        "id": "WSk_NwDAFT_y"
      },
      "source": [
        "###Applying Neural Network to train the model for better accuracy\n",
        "\n",
        "### Using SLP (no hidden layers)"
      ]
    },
    {
      "cell_type": "code",
      "execution_count": null,
      "metadata": {
        "id": "m_4YmT8lDTLS"
      },
      "outputs": [],
      "source": [
        "from tensorflow.keras.models import Sequential\n",
        "from tensorflow.keras.layers import Dense"
      ]
    },
    {
      "cell_type": "code",
      "execution_count": null,
      "metadata": {
        "id": "mOtMs8bDFnpN"
      },
      "outputs": [],
      "source": [
        "model = Sequential()\n",
        "model.add(Dense(1, input_dim=8, activation='sigmoid'))\n",
        "\n",
        "# compile the model\n",
        "model.compile(loss='binary_crossentropy', optimizer='adam', metrics=['accuracy'])"
      ]
    },
    {
      "cell_type": "code",
      "execution_count": null,
      "metadata": {
        "colab": {
          "base_uri": "https://localhost:8080/"
        },
        "id": "9EpPGJ_VFvMi",
        "outputId": "942586d3-e5c7-4082-d4a1-a8401e62f0d9"
      },
      "outputs": [
        {
          "name": "stdout",
          "output_type": "stream",
          "text": [
            "Epoch 1/150\n",
            "62/62 [==============================] - 1s 1ms/step - loss: 0.8166 - accuracy: 0.4870\n",
            "Epoch 2/150\n",
            "62/62 [==============================] - 0s 1ms/step - loss: 0.7698 - accuracy: 0.5179\n",
            "Epoch 3/150\n",
            "62/62 [==============================] - 0s 1ms/step - loss: 0.7297 - accuracy: 0.5489\n",
            "Epoch 4/150\n",
            "62/62 [==============================] - 0s 1ms/step - loss: 0.6950 - accuracy: 0.5749\n",
            "Epoch 5/150\n",
            "62/62 [==============================] - 0s 1ms/step - loss: 0.6652 - accuracy: 0.6059\n",
            "Epoch 6/150\n",
            "62/62 [==============================] - 0s 1ms/step - loss: 0.6391 - accuracy: 0.6401\n",
            "Epoch 7/150\n",
            "62/62 [==============================] - 0s 1ms/step - loss: 0.6169 - accuracy: 0.6531\n",
            "Epoch 8/150\n",
            "62/62 [==============================] - 0s 1ms/step - loss: 0.5977 - accuracy: 0.6873\n",
            "Epoch 9/150\n",
            "62/62 [==============================] - 0s 1ms/step - loss: 0.5810 - accuracy: 0.7068\n",
            "Epoch 10/150\n",
            "62/62 [==============================] - 0s 1ms/step - loss: 0.5668 - accuracy: 0.7199\n",
            "Epoch 11/150\n",
            "62/62 [==============================] - 0s 1ms/step - loss: 0.5544 - accuracy: 0.7280\n",
            "Epoch 12/150\n",
            "62/62 [==============================] - 0s 1ms/step - loss: 0.5438 - accuracy: 0.7394\n",
            "Epoch 13/150\n",
            "62/62 [==============================] - 0s 1ms/step - loss: 0.5347 - accuracy: 0.7443\n",
            "Epoch 14/150\n",
            "62/62 [==============================] - 0s 1ms/step - loss: 0.5266 - accuracy: 0.7541\n",
            "Epoch 15/150\n",
            "62/62 [==============================] - 0s 1ms/step - loss: 0.5196 - accuracy: 0.7524\n",
            "Epoch 16/150\n",
            "62/62 [==============================] - 0s 1ms/step - loss: 0.5135 - accuracy: 0.7622\n",
            "Epoch 17/150\n",
            "62/62 [==============================] - 0s 1ms/step - loss: 0.5084 - accuracy: 0.7655\n",
            "Epoch 18/150\n",
            "62/62 [==============================] - 0s 1ms/step - loss: 0.5038 - accuracy: 0.7655\n",
            "Epoch 19/150\n",
            "62/62 [==============================] - 0s 1ms/step - loss: 0.4997 - accuracy: 0.7671\n",
            "Epoch 20/150\n",
            "62/62 [==============================] - 0s 1ms/step - loss: 0.4964 - accuracy: 0.7655\n",
            "Epoch 21/150\n",
            "62/62 [==============================] - 0s 1ms/step - loss: 0.4929 - accuracy: 0.7638\n",
            "Epoch 22/150\n",
            "62/62 [==============================] - 0s 1ms/step - loss: 0.4904 - accuracy: 0.7671\n",
            "Epoch 23/150\n",
            "62/62 [==============================] - 0s 1ms/step - loss: 0.4879 - accuracy: 0.7622\n",
            "Epoch 24/150\n",
            "62/62 [==============================] - 0s 1ms/step - loss: 0.4857 - accuracy: 0.7655\n",
            "Epoch 25/150\n",
            "62/62 [==============================] - 0s 1ms/step - loss: 0.4839 - accuracy: 0.7655\n",
            "Epoch 26/150\n",
            "62/62 [==============================] - 0s 1ms/step - loss: 0.4821 - accuracy: 0.7704\n",
            "Epoch 27/150\n",
            "62/62 [==============================] - 0s 1ms/step - loss: 0.4806 - accuracy: 0.7720\n",
            "Epoch 28/150\n",
            "62/62 [==============================] - 0s 1ms/step - loss: 0.4792 - accuracy: 0.7769\n",
            "Epoch 29/150\n",
            "62/62 [==============================] - 0s 1ms/step - loss: 0.4782 - accuracy: 0.7752\n",
            "Epoch 30/150\n",
            "62/62 [==============================] - 0s 1ms/step - loss: 0.4771 - accuracy: 0.7752\n",
            "Epoch 31/150\n",
            "62/62 [==============================] - 0s 1ms/step - loss: 0.4761 - accuracy: 0.7801\n",
            "Epoch 32/150\n",
            "62/62 [==============================] - 0s 1ms/step - loss: 0.4754 - accuracy: 0.7801\n",
            "Epoch 33/150\n",
            "62/62 [==============================] - 0s 1ms/step - loss: 0.4744 - accuracy: 0.7769\n",
            "Epoch 34/150\n",
            "62/62 [==============================] - 0s 1ms/step - loss: 0.4738 - accuracy: 0.7769\n",
            "Epoch 35/150\n",
            "62/62 [==============================] - 0s 1ms/step - loss: 0.4730 - accuracy: 0.7769\n",
            "Epoch 36/150\n",
            "62/62 [==============================] - 0s 1ms/step - loss: 0.4725 - accuracy: 0.7818\n",
            "Epoch 37/150\n",
            "62/62 [==============================] - 0s 1ms/step - loss: 0.4720 - accuracy: 0.7818\n",
            "Epoch 38/150\n",
            "62/62 [==============================] - 0s 1ms/step - loss: 0.4717 - accuracy: 0.7850\n",
            "Epoch 39/150\n",
            "62/62 [==============================] - 0s 1ms/step - loss: 0.4711 - accuracy: 0.7834\n",
            "Epoch 40/150\n",
            "62/62 [==============================] - 0s 1ms/step - loss: 0.4708 - accuracy: 0.7834\n",
            "Epoch 41/150\n",
            "62/62 [==============================] - 0s 1ms/step - loss: 0.4703 - accuracy: 0.7834\n",
            "Epoch 42/150\n",
            "62/62 [==============================] - 0s 1ms/step - loss: 0.4702 - accuracy: 0.7834\n",
            "Epoch 43/150\n",
            "62/62 [==============================] - 0s 1ms/step - loss: 0.4698 - accuracy: 0.7834\n",
            "Epoch 44/150\n",
            "62/62 [==============================] - 0s 1ms/step - loss: 0.4695 - accuracy: 0.7866\n",
            "Epoch 45/150\n",
            "62/62 [==============================] - 0s 1ms/step - loss: 0.4694 - accuracy: 0.7834\n",
            "Epoch 46/150\n",
            "62/62 [==============================] - 0s 1ms/step - loss: 0.4691 - accuracy: 0.7834\n",
            "Epoch 47/150\n",
            "62/62 [==============================] - 0s 1ms/step - loss: 0.4688 - accuracy: 0.7850\n",
            "Epoch 48/150\n",
            "62/62 [==============================] - 0s 1ms/step - loss: 0.4688 - accuracy: 0.7834\n",
            "Epoch 49/150\n",
            "62/62 [==============================] - 0s 1ms/step - loss: 0.4686 - accuracy: 0.7850\n",
            "Epoch 50/150\n",
            "62/62 [==============================] - 0s 1ms/step - loss: 0.4684 - accuracy: 0.7834\n",
            "Epoch 51/150\n",
            "62/62 [==============================] - 0s 1ms/step - loss: 0.4683 - accuracy: 0.7818\n",
            "Epoch 52/150\n",
            "62/62 [==============================] - 0s 1ms/step - loss: 0.4680 - accuracy: 0.7850\n",
            "Epoch 53/150\n",
            "62/62 [==============================] - 0s 1ms/step - loss: 0.4680 - accuracy: 0.7834\n",
            "Epoch 54/150\n",
            "62/62 [==============================] - 0s 1ms/step - loss: 0.4678 - accuracy: 0.7834\n",
            "Epoch 55/150\n",
            "62/62 [==============================] - 0s 1ms/step - loss: 0.4679 - accuracy: 0.7850\n",
            "Epoch 56/150\n",
            "62/62 [==============================] - 0s 1ms/step - loss: 0.4676 - accuracy: 0.7866\n",
            "Epoch 57/150\n",
            "62/62 [==============================] - 0s 986us/step - loss: 0.4676 - accuracy: 0.7850\n",
            "Epoch 58/150\n",
            "62/62 [==============================] - 0s 1ms/step - loss: 0.4675 - accuracy: 0.7866\n",
            "Epoch 59/150\n",
            "62/62 [==============================] - 0s 1ms/step - loss: 0.4674 - accuracy: 0.7883\n",
            "Epoch 60/150\n",
            "62/62 [==============================] - 0s 1ms/step - loss: 0.4674 - accuracy: 0.7866\n",
            "Epoch 61/150\n",
            "62/62 [==============================] - 0s 1ms/step - loss: 0.4674 - accuracy: 0.7883\n",
            "Epoch 62/150\n",
            "62/62 [==============================] - 0s 1ms/step - loss: 0.4672 - accuracy: 0.7915\n",
            "Epoch 63/150\n",
            "62/62 [==============================] - 0s 1ms/step - loss: 0.4672 - accuracy: 0.7883\n",
            "Epoch 64/150\n",
            "62/62 [==============================] - 0s 1ms/step - loss: 0.4672 - accuracy: 0.7915\n",
            "Epoch 65/150\n",
            "62/62 [==============================] - 0s 1ms/step - loss: 0.4671 - accuracy: 0.7899\n",
            "Epoch 66/150\n",
            "62/62 [==============================] - 0s 1ms/step - loss: 0.4670 - accuracy: 0.7915\n",
            "Epoch 67/150\n",
            "62/62 [==============================] - 0s 1ms/step - loss: 0.4670 - accuracy: 0.7915\n",
            "Epoch 68/150\n",
            "62/62 [==============================] - 0s 1ms/step - loss: 0.4670 - accuracy: 0.7899\n",
            "Epoch 69/150\n",
            "62/62 [==============================] - 0s 1ms/step - loss: 0.4670 - accuracy: 0.7915\n",
            "Epoch 70/150\n",
            "62/62 [==============================] - 0s 1ms/step - loss: 0.4669 - accuracy: 0.7915\n",
            "Epoch 71/150\n",
            "62/62 [==============================] - 0s 1ms/step - loss: 0.4670 - accuracy: 0.7915\n",
            "Epoch 72/150\n",
            "62/62 [==============================] - 0s 1ms/step - loss: 0.4669 - accuracy: 0.7915\n",
            "Epoch 73/150\n",
            "62/62 [==============================] - 0s 1ms/step - loss: 0.4668 - accuracy: 0.7915\n",
            "Epoch 74/150\n",
            "62/62 [==============================] - 0s 1ms/step - loss: 0.4669 - accuracy: 0.7915\n",
            "Epoch 75/150\n",
            "62/62 [==============================] - 0s 1ms/step - loss: 0.4668 - accuracy: 0.7915\n",
            "Epoch 76/150\n",
            "62/62 [==============================] - 0s 1ms/step - loss: 0.4669 - accuracy: 0.7915\n",
            "Epoch 77/150\n",
            "62/62 [==============================] - 0s 1ms/step - loss: 0.4669 - accuracy: 0.7932\n",
            "Epoch 78/150\n",
            "62/62 [==============================] - 0s 1ms/step - loss: 0.4667 - accuracy: 0.7915\n",
            "Epoch 79/150\n",
            "62/62 [==============================] - 0s 1ms/step - loss: 0.4668 - accuracy: 0.7915\n",
            "Epoch 80/150\n",
            "62/62 [==============================] - 0s 1ms/step - loss: 0.4668 - accuracy: 0.7899\n",
            "Epoch 81/150\n",
            "62/62 [==============================] - 0s 1ms/step - loss: 0.4668 - accuracy: 0.7915\n",
            "Epoch 82/150\n",
            "62/62 [==============================] - 0s 1ms/step - loss: 0.4668 - accuracy: 0.7899\n",
            "Epoch 83/150\n",
            "62/62 [==============================] - 0s 1ms/step - loss: 0.4667 - accuracy: 0.7899\n",
            "Epoch 84/150\n",
            "62/62 [==============================] - 0s 1ms/step - loss: 0.4668 - accuracy: 0.7899\n",
            "Epoch 85/150\n",
            "62/62 [==============================] - 0s 1ms/step - loss: 0.4667 - accuracy: 0.7915\n",
            "Epoch 86/150\n",
            "62/62 [==============================] - 0s 1ms/step - loss: 0.4667 - accuracy: 0.7915\n",
            "Epoch 87/150\n",
            "62/62 [==============================] - 0s 1ms/step - loss: 0.4666 - accuracy: 0.7915\n",
            "Epoch 88/150\n",
            "62/62 [==============================] - 0s 1ms/step - loss: 0.4668 - accuracy: 0.7915\n",
            "Epoch 89/150\n",
            "62/62 [==============================] - 0s 1ms/step - loss: 0.4668 - accuracy: 0.7915\n",
            "Epoch 90/150\n",
            "62/62 [==============================] - 0s 1ms/step - loss: 0.4666 - accuracy: 0.7915\n",
            "Epoch 91/150\n",
            "62/62 [==============================] - 0s 1ms/step - loss: 0.4667 - accuracy: 0.7915\n",
            "Epoch 92/150\n",
            "62/62 [==============================] - 0s 1ms/step - loss: 0.4666 - accuracy: 0.7899\n",
            "Epoch 93/150\n",
            "62/62 [==============================] - 0s 1ms/step - loss: 0.4668 - accuracy: 0.7915\n",
            "Epoch 94/150\n",
            "62/62 [==============================] - 0s 1ms/step - loss: 0.4667 - accuracy: 0.7899\n",
            "Epoch 95/150\n",
            "62/62 [==============================] - 0s 1ms/step - loss: 0.4667 - accuracy: 0.7915\n",
            "Epoch 96/150\n",
            "62/62 [==============================] - 0s 1ms/step - loss: 0.4668 - accuracy: 0.7899\n",
            "Epoch 97/150\n",
            "62/62 [==============================] - 0s 1ms/step - loss: 0.4666 - accuracy: 0.7899\n",
            "Epoch 98/150\n",
            "62/62 [==============================] - 0s 1ms/step - loss: 0.4668 - accuracy: 0.7899\n",
            "Epoch 99/150\n",
            "62/62 [==============================] - 0s 1ms/step - loss: 0.4665 - accuracy: 0.7915\n",
            "Epoch 100/150\n",
            "62/62 [==============================] - 0s 1ms/step - loss: 0.4668 - accuracy: 0.7915\n",
            "Epoch 101/150\n",
            "62/62 [==============================] - 0s 1ms/step - loss: 0.4668 - accuracy: 0.7899\n",
            "Epoch 102/150\n",
            "62/62 [==============================] - 0s 1ms/step - loss: 0.4667 - accuracy: 0.7932\n",
            "Epoch 103/150\n",
            "62/62 [==============================] - 0s 1ms/step - loss: 0.4666 - accuracy: 0.7915\n",
            "Epoch 104/150\n",
            "62/62 [==============================] - 0s 1ms/step - loss: 0.4666 - accuracy: 0.7915\n",
            "Epoch 105/150\n",
            "62/62 [==============================] - 0s 2ms/step - loss: 0.4666 - accuracy: 0.7899\n",
            "Epoch 106/150\n",
            "62/62 [==============================] - 0s 1ms/step - loss: 0.4666 - accuracy: 0.7915\n",
            "Epoch 107/150\n",
            "62/62 [==============================] - 0s 2ms/step - loss: 0.4666 - accuracy: 0.7915\n",
            "Epoch 108/150\n",
            "62/62 [==============================] - 0s 1ms/step - loss: 0.4667 - accuracy: 0.7899\n",
            "Epoch 109/150\n",
            "62/62 [==============================] - 0s 1ms/step - loss: 0.4667 - accuracy: 0.7899\n",
            "Epoch 110/150\n",
            "62/62 [==============================] - 0s 1ms/step - loss: 0.4667 - accuracy: 0.7915\n",
            "Epoch 111/150\n",
            "62/62 [==============================] - 0s 1ms/step - loss: 0.4666 - accuracy: 0.7899\n",
            "Epoch 112/150\n",
            "62/62 [==============================] - 0s 1ms/step - loss: 0.4666 - accuracy: 0.7915\n",
            "Epoch 113/150\n",
            "62/62 [==============================] - 0s 1ms/step - loss: 0.4666 - accuracy: 0.7915\n",
            "Epoch 114/150\n",
            "62/62 [==============================] - 0s 1ms/step - loss: 0.4667 - accuracy: 0.7899\n",
            "Epoch 115/150\n",
            "62/62 [==============================] - 0s 1ms/step - loss: 0.4667 - accuracy: 0.7899\n",
            "Epoch 116/150\n",
            "62/62 [==============================] - 0s 1ms/step - loss: 0.4666 - accuracy: 0.7899\n",
            "Epoch 117/150\n",
            "62/62 [==============================] - 0s 1ms/step - loss: 0.4665 - accuracy: 0.7899\n",
            "Epoch 118/150\n",
            "62/62 [==============================] - 0s 1ms/step - loss: 0.4666 - accuracy: 0.7899\n",
            "Epoch 119/150\n",
            "62/62 [==============================] - 0s 1ms/step - loss: 0.4666 - accuracy: 0.7915\n",
            "Epoch 120/150\n",
            "62/62 [==============================] - 0s 1ms/step - loss: 0.4667 - accuracy: 0.7899\n",
            "Epoch 121/150\n",
            "62/62 [==============================] - 0s 1ms/step - loss: 0.4666 - accuracy: 0.7915\n",
            "Epoch 122/150\n",
            "62/62 [==============================] - 0s 1ms/step - loss: 0.4666 - accuracy: 0.7899\n",
            "Epoch 123/150\n",
            "62/62 [==============================] - 0s 2ms/step - loss: 0.4667 - accuracy: 0.7915\n",
            "Epoch 124/150\n",
            "62/62 [==============================] - 0s 1ms/step - loss: 0.4667 - accuracy: 0.7899\n",
            "Epoch 125/150\n",
            "62/62 [==============================] - 0s 1ms/step - loss: 0.4666 - accuracy: 0.7915\n",
            "Epoch 126/150\n",
            "62/62 [==============================] - 0s 1ms/step - loss: 0.4666 - accuracy: 0.7899\n",
            "Epoch 127/150\n",
            "62/62 [==============================] - 0s 1ms/step - loss: 0.4666 - accuracy: 0.7915\n",
            "Epoch 128/150\n",
            "62/62 [==============================] - 0s 1ms/step - loss: 0.4666 - accuracy: 0.7932\n",
            "Epoch 129/150\n",
            "62/62 [==============================] - 0s 2ms/step - loss: 0.4666 - accuracy: 0.7899\n",
            "Epoch 130/150\n",
            "62/62 [==============================] - 0s 1ms/step - loss: 0.4667 - accuracy: 0.7899\n",
            "Epoch 131/150\n",
            "62/62 [==============================] - 0s 1ms/step - loss: 0.4667 - accuracy: 0.7932\n",
            "Epoch 132/150\n",
            "62/62 [==============================] - 0s 1ms/step - loss: 0.4665 - accuracy: 0.7899\n",
            "Epoch 133/150\n",
            "62/62 [==============================] - 0s 1ms/step - loss: 0.4667 - accuracy: 0.7915\n",
            "Epoch 134/150\n",
            "62/62 [==============================] - 0s 1ms/step - loss: 0.4669 - accuracy: 0.7899\n",
            "Epoch 135/150\n",
            "62/62 [==============================] - 0s 1ms/step - loss: 0.4666 - accuracy: 0.7899\n",
            "Epoch 136/150\n",
            "62/62 [==============================] - 0s 1ms/step - loss: 0.4665 - accuracy: 0.7899\n",
            "Epoch 137/150\n",
            "62/62 [==============================] - 0s 1ms/step - loss: 0.4666 - accuracy: 0.7915\n",
            "Epoch 138/150\n",
            "62/62 [==============================] - 0s 1ms/step - loss: 0.4667 - accuracy: 0.7899\n",
            "Epoch 139/150\n",
            "62/62 [==============================] - 0s 2ms/step - loss: 0.4667 - accuracy: 0.7948\n",
            "Epoch 140/150\n",
            "62/62 [==============================] - 0s 1ms/step - loss: 0.4666 - accuracy: 0.7932\n",
            "Epoch 141/150\n",
            "62/62 [==============================] - 0s 1ms/step - loss: 0.4666 - accuracy: 0.7932\n",
            "Epoch 142/150\n",
            "62/62 [==============================] - 0s 1ms/step - loss: 0.4665 - accuracy: 0.7915\n",
            "Epoch 143/150\n",
            "62/62 [==============================] - 0s 1ms/step - loss: 0.4667 - accuracy: 0.7915\n",
            "Epoch 144/150\n",
            "62/62 [==============================] - 0s 1ms/step - loss: 0.4666 - accuracy: 0.7932\n",
            "Epoch 145/150\n",
            "62/62 [==============================] - 0s 1ms/step - loss: 0.4667 - accuracy: 0.7932\n",
            "Epoch 146/150\n",
            "62/62 [==============================] - 0s 1ms/step - loss: 0.4666 - accuracy: 0.7948\n",
            "Epoch 147/150\n",
            "62/62 [==============================] - 0s 1ms/step - loss: 0.4666 - accuracy: 0.7915\n",
            "Epoch 148/150\n",
            "62/62 [==============================] - 0s 1ms/step - loss: 0.4667 - accuracy: 0.7915\n",
            "Epoch 149/150\n",
            "62/62 [==============================] - 0s 1ms/step - loss: 0.4666 - accuracy: 0.7915\n",
            "Epoch 150/150\n",
            "62/62 [==============================] - 0s 1ms/step - loss: 0.4667 - accuracy: 0.7899\n"
          ]
        },
        {
          "data": {
            "text/plain": [
              "<keras.callbacks.History at 0x7fbdf053efd0>"
            ]
          },
          "execution_count": 48,
          "metadata": {},
          "output_type": "execute_result"
        }
      ],
      "source": [
        "# train the model\n",
        "model.fit(X_train, y_train, epochs=150, batch_size=10)"
      ]
    },
    {
      "cell_type": "code",
      "execution_count": null,
      "metadata": {
        "colab": {
          "base_uri": "https://localhost:8080/"
        },
        "id": "KN0yqmQbFzy7",
        "outputId": "ed4c4634-17fa-481a-d447-5e0375d05548"
      },
      "outputs": [
        {
          "name": "stdout",
          "output_type": "stream",
          "text": [
            "5/5 [==============================] - 0s 3ms/step - loss: 0.4951 - accuracy: 0.7143\n",
            "Accuracy: 71.43\n"
          ]
        }
      ],
      "source": [
        "# evaluate the model on the testing dataset\n",
        "_, accuracy = model.evaluate(X_test, y_test)\n",
        "print('Accuracy: %.2f' % (accuracy*100))"
      ]
    },
    {
      "cell_type": "code",
      "execution_count": null,
      "metadata": {
        "colab": {
          "base_uri": "https://localhost:8080/"
        },
        "id": "CHA64j5yF7iD",
        "outputId": "92a9e45b-bd0c-4f1b-a084-eb3d44d821d5"
      },
      "outputs": [
        {
          "name": "stderr",
          "output_type": "stream",
          "text": [
            "<ipython-input-50-5686ffe663ab>:9: DeprecationWarning: KerasClassifier is deprecated, use Sci-Keras (https://github.com/adriangb/scikeras) instead. See https://www.adriangb.com/scikeras/stable/migration.html for help migrating.\n",
            "  model = KerasClassifier(build_fn=create_model, verbose=0)\n"
          ]
        }
      ],
      "source": [
        "from tensorflow.keras.wrappers.scikit_learn import KerasClassifier\n",
        "def create_model():\n",
        "    model = Sequential()\n",
        "    model.add(Dense(1, input_dim=8, activation='sigmoid'))\n",
        "    model.compile(loss='binary_crossentropy', optimizer='adam', metrics=['accuracy'])\n",
        "    return model\n",
        "\n",
        "# create the Keras classifier for use in scikit-learn\n",
        "model = KerasClassifier(build_fn=create_model, verbose=0)\n"
      ]
    },
    {
      "cell_type": "code",
      "execution_count": null,
      "metadata": {
        "id": "bXkrFupMHCfb"
      },
      "outputs": [],
      "source": [
        "batch_size = [10, 20, 40]\n",
        "epochs = [50, 100]\n",
        "param_grid = dict(batch_size=batch_size, epochs=epochs)\n",
        "grid = GridSearchCV(estimator=model, param_grid=param_grid, cv=5)\n",
        "grid_result = grid.fit(X_train, y_train)"
      ]
    },
    {
      "cell_type": "code",
      "execution_count": null,
      "metadata": {
        "colab": {
          "base_uri": "https://localhost:8080/"
        },
        "id": "Wq8goztBHGu7",
        "outputId": "f1769b97-6a4d-4a8a-e90a-e11878ca558f"
      },
      "outputs": [
        {
          "name": "stdout",
          "output_type": "stream",
          "text": [
            "Best: 0.780155 using {'batch_size': 20, 'epochs': 100}\n",
            "0.775250 (0.009602) with: {'batch_size': 10, 'epochs': 50}\n",
            "0.780155 (0.018257) with: {'batch_size': 10, 'epochs': 100}\n",
            "0.732907 (0.028729) with: {'batch_size': 20, 'epochs': 50}\n",
            "0.780155 (0.024448) with: {'batch_size': 20, 'epochs': 100}\n",
            "0.715034 (0.042091) with: {'batch_size': 40, 'epochs': 50}\n",
            "0.775250 (0.021502) with: {'batch_size': 40, 'epochs': 100}\n"
          ]
        }
      ],
      "source": [
        "print(\"Best: %f using %s\" % (grid_result.best_score_, grid_result.best_params_))\n",
        "means = grid_result.cv_results_['mean_test_score']\n",
        "stds = grid_result.cv_results_['std_test_score']\n",
        "params = grid_result.cv_results_['params']\n",
        "for mean, stdev, param in zip(means, stds, params):\n",
        "    print(\"%f (%f) with: %r\" % (mean, stdev, param))\n",
        "\n"
      ]
    },
    {
      "cell_type": "code",
      "execution_count": null,
      "metadata": {
        "colab": {
          "base_uri": "https://localhost:8080/"
        },
        "id": "ey1G3XJkJQbR",
        "outputId": "2d6471c8-4ef3-4fde-d350-5011209f4304"
      },
      "outputs": [
        {
          "name": "stdout",
          "output_type": "stream",
          "text": [
            "5/5 [==============================] - 0s 2ms/step - loss: 0.4949 - accuracy: 0.7143\n",
            "Accuracy: 71.43\n"
          ]
        }
      ],
      "source": [
        "# evaluate the best model on the testing dataset\n",
        "_, accuracy = grid_result.best_estimator_.model.evaluate(X_test, y_test)\n",
        "print('Accuracy: %.2f' % (accuracy*100))"
      ]
    },
    {
      "cell_type": "markdown",
      "metadata": {
        "id": "sfT8W-xHlric"
      },
      "source": [
        "###Adding Hidden layers to improve measure of accuracy"
      ]
    },
    {
      "cell_type": "code",
      "execution_count": null,
      "metadata": {
        "id": "Ckt6cJOmJY5y"
      },
      "outputs": [],
      "source": [
        "mlp_model=Sequential()\n",
        "mlp_model.add(Dense(12, input_dim=8, activation='relu'))\n",
        "mlp_model.add(Dense(8, activation='relu'))\n",
        "mlp_model.add(Dense(1, activation='sigmoid'))"
      ]
    },
    {
      "cell_type": "code",
      "execution_count": null,
      "metadata": {
        "id": "VjHiX3D2aRGv"
      },
      "outputs": [],
      "source": [
        "mlp_model.compile(loss='binary_crossentropy', optimizer='adam', metrics=['accuracy'])"
      ]
    },
    {
      "cell_type": "code",
      "execution_count": null,
      "metadata": {
        "colab": {
          "base_uri": "https://localhost:8080/"
        },
        "id": "lVWGJwcLcHrK",
        "outputId": "ffa8dec5-1717-4de7-851b-5cb9b88cd459"
      },
      "outputs": [
        {
          "name": "stdout",
          "output_type": "stream",
          "text": [
            "Epoch 1/50\n",
            "62/62 [==============================] - 1s 1ms/step - loss: 0.7429 - accuracy: 0.5668\n",
            "Epoch 2/50\n",
            "62/62 [==============================] - 0s 1ms/step - loss: 0.6358 - accuracy: 0.7117\n",
            "Epoch 3/50\n",
            "62/62 [==============================] - 0s 1ms/step - loss: 0.5697 - accuracy: 0.7443\n",
            "Epoch 4/50\n",
            "62/62 [==============================] - 0s 1ms/step - loss: 0.5266 - accuracy: 0.7443\n",
            "Epoch 5/50\n",
            "62/62 [==============================] - 0s 1ms/step - loss: 0.4996 - accuracy: 0.7492\n",
            "Epoch 6/50\n",
            "62/62 [==============================] - 0s 1ms/step - loss: 0.4839 - accuracy: 0.7590\n",
            "Epoch 7/50\n",
            "62/62 [==============================] - 0s 1ms/step - loss: 0.4746 - accuracy: 0.7687\n",
            "Epoch 8/50\n",
            "62/62 [==============================] - 0s 1ms/step - loss: 0.4672 - accuracy: 0.7769\n",
            "Epoch 9/50\n",
            "62/62 [==============================] - 0s 1ms/step - loss: 0.4624 - accuracy: 0.7752\n",
            "Epoch 10/50\n",
            "62/62 [==============================] - 0s 1ms/step - loss: 0.4590 - accuracy: 0.7752\n",
            "Epoch 11/50\n",
            "62/62 [==============================] - 0s 1ms/step - loss: 0.4550 - accuracy: 0.7818\n",
            "Epoch 12/50\n",
            "62/62 [==============================] - 0s 1ms/step - loss: 0.4534 - accuracy: 0.7834\n",
            "Epoch 13/50\n",
            "62/62 [==============================] - 0s 1ms/step - loss: 0.4497 - accuracy: 0.7801\n",
            "Epoch 14/50\n",
            "62/62 [==============================] - 0s 1ms/step - loss: 0.4473 - accuracy: 0.7834\n",
            "Epoch 15/50\n",
            "62/62 [==============================] - 0s 1ms/step - loss: 0.4445 - accuracy: 0.7883\n",
            "Epoch 16/50\n",
            "62/62 [==============================] - 0s 1ms/step - loss: 0.4427 - accuracy: 0.7997\n",
            "Epoch 17/50\n",
            "62/62 [==============================] - 0s 1ms/step - loss: 0.4420 - accuracy: 0.7948\n",
            "Epoch 18/50\n",
            "62/62 [==============================] - 0s 1ms/step - loss: 0.4390 - accuracy: 0.8029\n",
            "Epoch 19/50\n",
            "62/62 [==============================] - 0s 1ms/step - loss: 0.4383 - accuracy: 0.7997\n",
            "Epoch 20/50\n",
            "62/62 [==============================] - 0s 1ms/step - loss: 0.4362 - accuracy: 0.7997\n",
            "Epoch 21/50\n",
            "62/62 [==============================] - 0s 1ms/step - loss: 0.4357 - accuracy: 0.8029\n",
            "Epoch 22/50\n",
            "62/62 [==============================] - 0s 1ms/step - loss: 0.4349 - accuracy: 0.8013\n",
            "Epoch 23/50\n",
            "62/62 [==============================] - 0s 1ms/step - loss: 0.4331 - accuracy: 0.7997\n",
            "Epoch 24/50\n",
            "62/62 [==============================] - 0s 1ms/step - loss: 0.4330 - accuracy: 0.7980\n",
            "Epoch 25/50\n",
            "62/62 [==============================] - 0s 1ms/step - loss: 0.4312 - accuracy: 0.7997\n",
            "Epoch 26/50\n",
            "62/62 [==============================] - 0s 1ms/step - loss: 0.4313 - accuracy: 0.8013\n",
            "Epoch 27/50\n",
            "62/62 [==============================] - 0s 1ms/step - loss: 0.4303 - accuracy: 0.8013\n",
            "Epoch 28/50\n",
            "62/62 [==============================] - 0s 1ms/step - loss: 0.4285 - accuracy: 0.8013\n",
            "Epoch 29/50\n",
            "62/62 [==============================] - 0s 1ms/step - loss: 0.4279 - accuracy: 0.7964\n",
            "Epoch 30/50\n",
            "62/62 [==============================] - 0s 1ms/step - loss: 0.4269 - accuracy: 0.8029\n",
            "Epoch 31/50\n",
            "62/62 [==============================] - 0s 1ms/step - loss: 0.4266 - accuracy: 0.7980\n",
            "Epoch 32/50\n",
            "62/62 [==============================] - 0s 1ms/step - loss: 0.4260 - accuracy: 0.8013\n",
            "Epoch 33/50\n",
            "62/62 [==============================] - 0s 1ms/step - loss: 0.4254 - accuracy: 0.8046\n",
            "Epoch 34/50\n",
            "62/62 [==============================] - 0s 1ms/step - loss: 0.4244 - accuracy: 0.7997\n",
            "Epoch 35/50\n",
            "62/62 [==============================] - 0s 1ms/step - loss: 0.4242 - accuracy: 0.8062\n",
            "Epoch 36/50\n",
            "62/62 [==============================] - 0s 1ms/step - loss: 0.4240 - accuracy: 0.8013\n",
            "Epoch 37/50\n",
            "62/62 [==============================] - 0s 1ms/step - loss: 0.4222 - accuracy: 0.8062\n",
            "Epoch 38/50\n",
            "62/62 [==============================] - 0s 1ms/step - loss: 0.4212 - accuracy: 0.8046\n",
            "Epoch 39/50\n",
            "62/62 [==============================] - 0s 1ms/step - loss: 0.4210 - accuracy: 0.8062\n",
            "Epoch 40/50\n",
            "62/62 [==============================] - 0s 1ms/step - loss: 0.4205 - accuracy: 0.8046\n",
            "Epoch 41/50\n",
            "62/62 [==============================] - 0s 1ms/step - loss: 0.4195 - accuracy: 0.8046\n",
            "Epoch 42/50\n",
            "62/62 [==============================] - 0s 1ms/step - loss: 0.4185 - accuracy: 0.8111\n",
            "Epoch 43/50\n",
            "62/62 [==============================] - 0s 1ms/step - loss: 0.4177 - accuracy: 0.8046\n",
            "Epoch 44/50\n",
            "62/62 [==============================] - 0s 1ms/step - loss: 0.4172 - accuracy: 0.8029\n",
            "Epoch 45/50\n",
            "62/62 [==============================] - 0s 1ms/step - loss: 0.4162 - accuracy: 0.8046\n",
            "Epoch 46/50\n",
            "62/62 [==============================] - 0s 1ms/step - loss: 0.4153 - accuracy: 0.8094\n",
            "Epoch 47/50\n",
            "62/62 [==============================] - 0s 1ms/step - loss: 0.4159 - accuracy: 0.8094\n",
            "Epoch 48/50\n",
            "62/62 [==============================] - 0s 1ms/step - loss: 0.4146 - accuracy: 0.8094\n",
            "Epoch 49/50\n",
            "62/62 [==============================] - 0s 1ms/step - loss: 0.4132 - accuracy: 0.8078\n",
            "Epoch 50/50\n",
            "62/62 [==============================] - 0s 1ms/step - loss: 0.4140 - accuracy: 0.8143\n"
          ]
        },
        {
          "data": {
            "text/plain": [
              "<keras.callbacks.History at 0x7fbdf095c7c0>"
            ]
          },
          "execution_count": 56,
          "metadata": {},
          "output_type": "execute_result"
        }
      ],
      "source": [
        "mlp_model.fit(X_train, y_train, epochs=50, batch_size=10)"
      ]
    },
    {
      "cell_type": "code",
      "execution_count": null,
      "metadata": {
        "colab": {
          "base_uri": "https://localhost:8080/"
        },
        "id": "n0UJHyzqcUsh",
        "outputId": "46a1e948-7686-46ae-d4cb-28b687a5608f"
      },
      "outputs": [
        {
          "name": "stdout",
          "output_type": "stream",
          "text": [
            "5/5 [==============================] - 0s 2ms/step - loss: 0.4957 - accuracy: 0.7273\n",
            "Test Accuracy:  0.7272727489471436\n"
          ]
        }
      ],
      "source": [
        "# Evaluate the model\n",
        "score = mlp_model.evaluate(X_test, y_test)\n",
        "print(\"Test Accuracy: \", score[1])"
      ]
    },
    {
      "cell_type": "code",
      "execution_count": null,
      "metadata": {
        "colab": {
          "base_uri": "https://localhost:8080/"
        },
        "id": "Tdc0sT0AceWS",
        "outputId": "f6d62596-ae37-4f4b-caa8-effe783d1be7"
      },
      "outputs": [
        {
          "name": "stdout",
          "output_type": "stream",
          "text": [
            "20/20 [==============================] - 0s 2ms/step - loss: 0.4098 - accuracy: 0.8094\n",
            "Training Accuracy:  0.8094462752342224\n"
          ]
        }
      ],
      "source": [
        "score = mlp_model.evaluate(X_train, y_train)\n",
        "print(\"Training Accuracy: \", score[1])"
      ]
    },
    {
      "cell_type": "markdown",
      "metadata": {
        "id": "QHWcNLBtdtkG"
      },
      "source": [
        "Here we are getting the test accuracy of about 75 percent when using the MLP model and the training accuracy of the model is about 92 percent. Therefore no overfitting is occuring in the model.\n",
        "\n",
        "\n",
        "We will now try to improve the model accuracy using hyperparameter tuning"
      ]
    },
    {
      "cell_type": "code",
      "execution_count": null,
      "metadata": {
        "id": "2K-36wVOdN36"
      },
      "outputs": [],
      "source": [
        "# Define a function to create the MLP model\n",
        "def create_model(optimizer='adam'):\n",
        "    model = Sequential()\n",
        "    model.add(Dense(12, input_dim=8, activation='relu'))\n",
        "    model.add(Dense(8, activation='relu'))\n",
        "    model.add(Dense(1, activation='sigmoid'))\n",
        "    model.compile(loss='binary_crossentropy', optimizer='adam', metrics=['accuracy'])\n",
        "    return model"
      ]
    },
    {
      "cell_type": "code",
      "execution_count": null,
      "metadata": {
        "colab": {
          "base_uri": "https://localhost:8080/"
        },
        "id": "FQZkOXsae2Se",
        "outputId": "03bbe838-e36a-4700-acd1-8d16339992af"
      },
      "outputs": [
        {
          "name": "stderr",
          "output_type": "stream",
          "text": [
            "<ipython-input-60-e7b2943111ce>:2: DeprecationWarning: KerasClassifier is deprecated, use Sci-Keras (https://github.com/adriangb/scikeras) instead. See https://www.adriangb.com/scikeras/stable/migration.html for help migrating.\n",
            "  estimator = KerasClassifier(build_fn=create_model, verbose=0)\n"
          ]
        }
      ],
      "source": [
        "# Wrap the Keras model in a scikit-learn estimator\n",
        "estimator = KerasClassifier(build_fn=create_model, verbose=0)"
      ]
    },
    {
      "cell_type": "code",
      "execution_count": null,
      "metadata": {
        "id": "byzLvuX5fAs3"
      },
      "outputs": [],
      "source": [
        "param_grid = {\n",
        "    'batch_size': [10, 20, 40],\n",
        "    'epochs': [50, 100],\n",
        "     'optimizer': ['adam', 'sgd', 'rmsprop']\n",
        "    \n",
        "}"
      ]
    },
    {
      "cell_type": "code",
      "execution_count": null,
      "metadata": {
        "id": "2OJE64PEfc16"
      },
      "outputs": [],
      "source": [
        "grid_search = GridSearchCV(estimator=estimator, param_grid=param_grid, cv=5)"
      ]
    },
    {
      "cell_type": "code",
      "execution_count": null,
      "metadata": {
        "colab": {
          "background_save": true
        },
        "id": "7unCAaFdhvko",
        "outputId": "78f464c4-2525-4f63-dc1a-dde0d5f4710d"
      },
      "outputs": [
        {
          "data": {
            "text/html": [
              "<style>#sk-container-id-4 {color: black;background-color: white;}#sk-container-id-4 pre{padding: 0;}#sk-container-id-4 div.sk-toggleable {background-color: white;}#sk-container-id-4 label.sk-toggleable__label {cursor: pointer;display: block;width: 100%;margin-bottom: 0;padding: 0.3em;box-sizing: border-box;text-align: center;}#sk-container-id-4 label.sk-toggleable__label-arrow:before {content: \"▸\";float: left;margin-right: 0.25em;color: #696969;}#sk-container-id-4 label.sk-toggleable__label-arrow:hover:before {color: black;}#sk-container-id-4 div.sk-estimator:hover label.sk-toggleable__label-arrow:before {color: black;}#sk-container-id-4 div.sk-toggleable__content {max-height: 0;max-width: 0;overflow: hidden;text-align: left;background-color: #f0f8ff;}#sk-container-id-4 div.sk-toggleable__content pre {margin: 0.2em;color: black;border-radius: 0.25em;background-color: #f0f8ff;}#sk-container-id-4 input.sk-toggleable__control:checked~div.sk-toggleable__content {max-height: 200px;max-width: 100%;overflow: auto;}#sk-container-id-4 input.sk-toggleable__control:checked~label.sk-toggleable__label-arrow:before {content: \"▾\";}#sk-container-id-4 div.sk-estimator input.sk-toggleable__control:checked~label.sk-toggleable__label {background-color: #d4ebff;}#sk-container-id-4 div.sk-label input.sk-toggleable__control:checked~label.sk-toggleable__label {background-color: #d4ebff;}#sk-container-id-4 input.sk-hidden--visually {border: 0;clip: rect(1px 1px 1px 1px);clip: rect(1px, 1px, 1px, 1px);height: 1px;margin: -1px;overflow: hidden;padding: 0;position: absolute;width: 1px;}#sk-container-id-4 div.sk-estimator {font-family: monospace;background-color: #f0f8ff;border: 1px dotted black;border-radius: 0.25em;box-sizing: border-box;margin-bottom: 0.5em;}#sk-container-id-4 div.sk-estimator:hover {background-color: #d4ebff;}#sk-container-id-4 div.sk-parallel-item::after {content: \"\";width: 100%;border-bottom: 1px solid gray;flex-grow: 1;}#sk-container-id-4 div.sk-label:hover label.sk-toggleable__label {background-color: #d4ebff;}#sk-container-id-4 div.sk-serial::before {content: \"\";position: absolute;border-left: 1px solid gray;box-sizing: border-box;top: 0;bottom: 0;left: 50%;z-index: 0;}#sk-container-id-4 div.sk-serial {display: flex;flex-direction: column;align-items: center;background-color: white;padding-right: 0.2em;padding-left: 0.2em;position: relative;}#sk-container-id-4 div.sk-item {position: relative;z-index: 1;}#sk-container-id-4 div.sk-parallel {display: flex;align-items: stretch;justify-content: center;background-color: white;position: relative;}#sk-container-id-4 div.sk-item::before, #sk-container-id-4 div.sk-parallel-item::before {content: \"\";position: absolute;border-left: 1px solid gray;box-sizing: border-box;top: 0;bottom: 0;left: 50%;z-index: -1;}#sk-container-id-4 div.sk-parallel-item {display: flex;flex-direction: column;z-index: 1;position: relative;background-color: white;}#sk-container-id-4 div.sk-parallel-item:first-child::after {align-self: flex-end;width: 50%;}#sk-container-id-4 div.sk-parallel-item:last-child::after {align-self: flex-start;width: 50%;}#sk-container-id-4 div.sk-parallel-item:only-child::after {width: 0;}#sk-container-id-4 div.sk-dashed-wrapped {border: 1px dashed gray;margin: 0 0.4em 0.5em 0.4em;box-sizing: border-box;padding-bottom: 0.4em;background-color: white;}#sk-container-id-4 div.sk-label label {font-family: monospace;font-weight: bold;display: inline-block;line-height: 1.2em;}#sk-container-id-4 div.sk-label-container {text-align: center;}#sk-container-id-4 div.sk-container {/* jupyter's `normalize.less` sets `[hidden] { display: none; }` but bootstrap.min.css set `[hidden] { display: none !important; }` so we also need the `!important` here to be able to override the default hidden behavior on the sphinx rendered scikit-learn.org. See: https://github.com/scikit-learn/scikit-learn/issues/21755 */display: inline-block !important;position: relative;}#sk-container-id-4 div.sk-text-repr-fallback {display: none;}</style><div id=\"sk-container-id-4\" class=\"sk-top-container\"><div class=\"sk-text-repr-fallback\"><pre>GridSearchCV(cv=5,\n",
              "             estimator=&lt;keras.wrappers.scikit_learn.KerasClassifier object at 0x7fbdf0d99610&gt;,\n",
              "             param_grid={&#x27;batch_size&#x27;: [10, 20, 40], &#x27;epochs&#x27;: [50, 100],\n",
              "                         &#x27;optimizer&#x27;: [&#x27;adam&#x27;, &#x27;sgd&#x27;, &#x27;rmsprop&#x27;]})</pre><b>In a Jupyter environment, please rerun this cell to show the HTML representation or trust the notebook. <br />On GitHub, the HTML representation is unable to render, please try loading this page with nbviewer.org.</b></div><div class=\"sk-container\" hidden><div class=\"sk-item sk-dashed-wrapped\"><div class=\"sk-label-container\"><div class=\"sk-label sk-toggleable\"><input class=\"sk-toggleable__control sk-hidden--visually\" id=\"sk-estimator-id-6\" type=\"checkbox\" ><label for=\"sk-estimator-id-6\" class=\"sk-toggleable__label sk-toggleable__label-arrow\">GridSearchCV</label><div class=\"sk-toggleable__content\"><pre>GridSearchCV(cv=5,\n",
              "             estimator=&lt;keras.wrappers.scikit_learn.KerasClassifier object at 0x7fbdf0d99610&gt;,\n",
              "             param_grid={&#x27;batch_size&#x27;: [10, 20, 40], &#x27;epochs&#x27;: [50, 100],\n",
              "                         &#x27;optimizer&#x27;: [&#x27;adam&#x27;, &#x27;sgd&#x27;, &#x27;rmsprop&#x27;]})</pre></div></div></div><div class=\"sk-parallel\"><div class=\"sk-parallel-item\"><div class=\"sk-item\"><div class=\"sk-label-container\"><div class=\"sk-label sk-toggleable\"><input class=\"sk-toggleable__control sk-hidden--visually\" id=\"sk-estimator-id-7\" type=\"checkbox\" ><label for=\"sk-estimator-id-7\" class=\"sk-toggleable__label sk-toggleable__label-arrow\">estimator: KerasClassifier</label><div class=\"sk-toggleable__content\"><pre>&lt;keras.wrappers.scikit_learn.KerasClassifier object at 0x7fbdf0d99610&gt;</pre></div></div></div><div class=\"sk-serial\"><div class=\"sk-item\"><div class=\"sk-estimator sk-toggleable\"><input class=\"sk-toggleable__control sk-hidden--visually\" id=\"sk-estimator-id-8\" type=\"checkbox\" ><label for=\"sk-estimator-id-8\" class=\"sk-toggleable__label sk-toggleable__label-arrow\">KerasClassifier</label><div class=\"sk-toggleable__content\"><pre>&lt;keras.wrappers.scikit_learn.KerasClassifier object at 0x7fbdf0d99610&gt;</pre></div></div></div></div></div></div></div></div></div></div>"
            ],
            "text/plain": [
              "GridSearchCV(cv=5,\n",
              "             estimator=<keras.wrappers.scikit_learn.KerasClassifier object at 0x7fbdf0d99610>,\n",
              "             param_grid={'batch_size': [10, 20, 40], 'epochs': [50, 100],\n",
              "                         'optimizer': ['adam', 'sgd', 'rmsprop']})"
            ]
          },
          "execution_count": 63,
          "metadata": {},
          "output_type": "execute_result"
        }
      ],
      "source": [
        "grid_search.fit(X_train, y_train)"
      ]
    },
    {
      "cell_type": "code",
      "execution_count": null,
      "metadata": {
        "colab": {
          "background_save": true
        },
        "id": "z6OznyyohxZb",
        "outputId": "c81b7d30-b435-4509-93e1-b0b57e7526de"
      },
      "outputs": [
        {
          "name": "stdout",
          "output_type": "stream",
          "text": [
            "Best hyperparameters: {'batch_size': 10, 'epochs': 100, 'optimizer': 'adam'}\n",
            "Best score: 0.7883113384246826\n"
          ]
        }
      ],
      "source": [
        "# Print the best hyperparameters and score\n",
        "print(\"Best hyperparameters:\", grid_search.best_params_)\n",
        "print(\"Best score:\", grid_search.best_score_)"
      ]
    },
    {
      "cell_type": "code",
      "execution_count": null,
      "metadata": {
        "colab": {
          "background_save": true
        },
        "id": "m5JhmEjSjnWp"
      },
      "outputs": [],
      "source": [
        "best_batch_size = grid_search.best_params_['batch_size']\n",
        "best_epochs = grid_search.best_params_['epochs']\n",
        "best_optimizer = grid_search.best_params_['optimizer']"
      ]
    },
    {
      "cell_type": "code",
      "execution_count": null,
      "metadata": {
        "colab": {
          "background_save": true
        },
        "id": "WhxJ5incn7zz"
      },
      "outputs": [],
      "source": [
        "best_model = Sequential()\n",
        "best_model.add(Dense(12, input_dim=8, activation='relu'))\n",
        "best_model.add(Dense(8, activation='relu'))\n",
        "best_model.add(Dense(1, activation='sigmoid'))\n",
        "\n",
        "# Compile the model with the best optimizer, loss function, and metrics\n",
        "best_model.compile(loss='binary_crossentropy', optimizer=best_optimizer, metrics=['accuracy'])"
      ]
    },
    {
      "cell_type": "code",
      "execution_count": null,
      "metadata": {
        "id": "F7i6_zxcoOVN"
      },
      "outputs": [],
      "source": [
        "history= best_model.fit(X_train, y_train, epochs=best_epochs, batch_size=best_batch_size,validation_data=(X_test, y_test))"
      ]
    },
    {
      "cell_type": "code",
      "execution_count": null,
      "metadata": {
        "colab": {
          "background_save": true
        },
        "id": "sjbOiU7EoU-F",
        "outputId": "e2bc3e8c-bdda-45f1-f746-ae80c91dbb19"
      },
      "outputs": [
        {
          "name": "stdout",
          "output_type": "stream",
          "text": [
            "5/5 [==============================] - 0s 2ms/step - loss: 0.6229 - accuracy: 0.6883\n",
            "Test loss: 0.6228813529014587\n",
            "Test accuracy: 0.6883116960525513\n"
          ]
        }
      ],
      "source": [
        "score = best_model.evaluate(X_test, y_test)\n",
        "print(\"Test loss:\", score[0])\n",
        "print(\"Test accuracy:\", score[1])"
      ]
    },
    {
      "cell_type": "code",
      "execution_count": null,
      "metadata": {
        "colab": {
          "background_save": true
        },
        "id": "YRva2XxopSlc",
        "outputId": "6ee64580-700a-4eaa-d4dc-4646d66c08cc"
      },
      "outputs": [
        {
          "data": {
            "image/png": "[encoded data removed]",
            "text/plain": [
              "<Figure size 640x480 with 1 Axes>"
            ]
          },
          "metadata": {},
          "output_type": "display_data"
        }
      ],
      "source": [
        "acc = history.history['accuracy']\n",
        "val_acc = history.history['val_accuracy']\n",
        "epochs = range(1, len(acc) + 1)\n",
        "plt.plot(epochs, acc, 'bo', label='Training accuracy')\n",
        "plt.plot(epochs, val_acc, 'b', label='Validation accuracy')\n",
        "plt.title('Training and validation accuracy')\n",
        "plt.xlabel('Epochs')\n",
        "plt.ylabel('Accuracy')\n",
        "plt.legend()\n",
        "plt.show()"
      ]
    },
    {
      "cell_type": "markdown",
      "metadata": {
        "id": "m3XgDTFjuzTh"
      },
      "source": [
        "Therefore we can see that by using Gridsearch cv and fitting the best parameters into the model we get a accuracy score of 75.32 percent.\n",
        "\n",
        "Of all the models we have trained, MLP using GridSearchCV is giving us the max accuracy"
      ]
    },
    {
      "cell_type": "code",
      "execution_count": null,
      "metadata": {
        "colab": {
          "background_save": true
        },
        "id": "fxg-bZequcMa",
        "outputId": "fe2260ad-46b9-4722-cb29-9b25de060ad6"
      },
      "outputs": [
        {
          "name": "stdout",
          "output_type": "stream",
          "text": [
            "5/5 [==============================] - 0s 2ms/step\n",
            "              precision    recall  f1-score   support\n",
            "\n",
            "           0       0.77      0.75      0.76       100\n",
            "           1       0.55      0.57      0.56        54\n",
            "\n",
            "    accuracy                           0.69       154\n",
            "   macro avg       0.66      0.66      0.66       154\n",
            "weighted avg       0.69      0.69      0.69       154\n",
            "\n"
          ]
        }
      ],
      "source": [
        "from sklearn.metrics import confusion_matrix\n",
        "from sklearn.metrics import classification_report\n",
        "import seaborn as sns\n",
        "y_pred = best_model.predict(X_test)\n",
        "y_pred_classes = np.round(y_pred)\n",
        "\n",
        "print(classification_report(y_test, y_pred_classes))\n"
      ]
    },
    {
      "cell_type": "code",
      "execution_count": null,
      "metadata": {
        "colab": {
          "background_save": true
        },
        "id": "ZeWW7oZc0noE",
        "outputId": "383c3afb-e80e-49f7-ec4a-6f6913478cfc"
      },
      "outputs": [
        {
          "name": "stdout",
          "output_type": "stream",
          "text": [
            "Overall Accuracy: 68.83%\n",
            "Overall Precision: 55.36%\n",
            "Overall Recall: 57.41%\n",
            "Overall F1 Score: 56.36%\n"
          ]
        }
      ],
      "source": [
        "acc = accuracy_score(y_test, y_pred_classes)\n",
        "prec = precision_score(y_test, y_pred_classes)\n",
        "rec = recall_score(y_test, y_pred_classes)\n",
        "f1 = f1_score(y_test, y_pred_classes)\n",
        "\n",
        "print(\"Overall Accuracy: {:.2f}%\".format(acc*100))\n",
        "print(\"Overall Precision: {:.2f}%\".format(prec*100))\n",
        "print(\"Overall Recall: {:.2f}%\".format(rec*100))\n",
        "print(\"Overall F1 Score: {:.2f}%\".format(f1*100))"
      ]
    },
    {
      "cell_type": "code",
      "execution_count": null,
      "metadata": {
        "id": "L3OkQJiRv-fh"
      },
      "outputs": [],
      "source": [
        "# Create the confusion matrix\n",
        "cm = confusion_matrix(y_test, y_pred_classes)\n",
        "sns.heatmap(cm, annot=True, fmt='d', cmap='Blues')\n",
        "plt.title('Confusion Matrix')\n",
        "plt.xlabel('Predicted Label')\n",
        "plt.ylabel('True Label')\n",
        "plt.show()"
      ]
    },
    {
      "cell_type": "markdown",
      "metadata": {
        "id": "8ZqIQYj_8JK8"
      },
      "source": [
        "**For the model using MLP with GridSearchCV, we are getting recall score of Class 0 as 0.80 ie it is predicting 80 percent of the non-diabetic cases correctly whereas for class 1 ie diabetic cases it having 67 percent recall score. \n",
        "\n",
        "As a model deployed in medical diagonisis, the problem of False Negatives is more important than the other ones. So we must focus on increasing the recall score for class 1**"
      ]
    },
    {
      "cell_type": "markdown",
      "metadata": {
        "id": "tfyD9jHz9Q7f"
      },
      "source": [
        "### Saving the best performing model (best_model)"
      ]
    },
    {
      "cell_type": "code",
      "execution_count": null,
      "metadata": {
        "id": "EgrXcE05wDiX"
      },
      "outputs": [],
      "source": [
        "import pickle"
      ]
    },
    {
      "cell_type": "code",
      "execution_count": null,
      "metadata": {
        "id": "zKasr4ThwThy"
      },
      "outputs": [],
      "source": [
        "filename=\"best_model.sav\"\n",
        "pickle.dump(best_model,open(filename,'wb'))"
      ]
    },
    {
      "cell_type": "code",
      "execution_count": null,
      "metadata": {
        "id": "6BQnFSy7-Tky"
      },
      "outputs": [],
      "source": [
        "##loading the saved model\n",
        "loaded_model=pickle.load(open('best_model.sav', 'rb'))"
      ]
    },
    {
      "cell_type": "code",
      "execution_count": null,
      "metadata": {
        "id": "10Qxm0Ef_-4o"
      },
      "outputs": [],
      "source": [
        "input_data = (5,166,72,19,175,25.8,0.587,51)\n",
        "\n",
        "# changing the input_data to numpy array\n",
        "input_data_as_numpy_array = np.asarray (input_data)\n",
        "\n",
        "input_data_reshaped=input_data_as_numpy_array.reshape(1,-1)\n",
        "prediction=loaded_model.predict(input_data_reshaped)\n",
        "print(prediction)\n",
        "\n",
        "\n",
        "if(prediction[0]==0):\n",
        "  print(\"The person is not diabetic\")\n",
        "\n",
        "else:\n",
        "  print(\"The person is diabetic\")\n",
        " \n",
        "\n",
        "   \n",
        "\n",
        " \n",
        "\n"
      ]
    },
    {
      "cell_type": "code",
      "execution_count": null,
      "metadata": {
        "id": "xfz8kGDXBEIn"
      },
      "outputs": [],
      "source": [
        "filename=\"log_reg_model.sav\"\n",
        "pickle.dump(logreg,open(filename,'wb'))"
      ]
    },
    {
      "cell_type": "code",
      "execution_count": null,
      "metadata": {
        "id": "QG_-KFLi6LJW"
      },
      "outputs": [],
      "source": [
        "##loading the saved model\n",
        "loaded_model=pickle.load(open('log_reg_model.sav', 'rb'))"
      ]
    }
  ],
  "metadata": {
    "colab": {
      "provenance": []
    },
    "kernelspec": {
      "display_name": "Python 3",
      "name": "python3"
    },
    "language_info": {
      "name": "python"
    }
  },
  "nbformat": 4,
  "nbformat_minor": 0
}